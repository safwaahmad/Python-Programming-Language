{
  "cells": [
    {
      "cell_type": "markdown",
      "metadata": {
        "id": "TgE4EvA3gNDc"
      },
      "source": [
        "# **What is a programming Language?**\n",
        "\n",
        "A programming language is an artificial language that can be used to control the behaviour of a machine, particularly a computer. Programming languages, like human languages, are defined through the use of syntactic and semantic rules, to determine structure and meaning respectively.\n",
        "\n",
        "\n",
        "Examples are: Python, Ruby, Java, JavaScript, C, C++, and C#.\n",
        "\n",
        "Programming languages are used to write all computer programs and computer software. A programming language is like a set of instructions that the computer follows to do something.\n"
      ]
    },
    {
      "cell_type": "markdown",
      "metadata": {
        "id": "JTilxyDec5kY"
      },
      "source": [
        "## **Installing IDE(Integrated Development Environment):**\n",
        "\n",
        "How to download and install Python on Windows:\n",
        "\n",
        "https://www.python.org/downloads/\n",
        "\n",
        "how to download and install Pycharm IDE on Windows:\n",
        "\n",
        "https://www.jetbrains.com/pycharm/download/\n",
        "\n",
        "Moreover, here you can get complete guidance about installing IDE for python on Windows.\n",
        "\n",
        "https://www.guru99.com/how-to-install-python.html"
      ]
    },
    {
      "cell_type": "markdown",
      "metadata": {
        "id": "H7cMSVjR5v7X"
      },
      "source": [
        "# **Python For Beginners**\n",
        "\n",
        "\n",
        "Python is a popular programming language. It was created by Guido van Rossum, and released in 1991.\n",
        "# Why Python?\n",
        "\n",
        "\n",
        "*   Free and open source\n",
        "*   Easy to learn\n",
        "\n",
        "\n",
        "*   Portable\n",
        "*   A lot of applications including web developing, app developing and data science\n",
        "\n",
        "\n",
        "*   Can be treated in a procedural way, object oriented way and fuctional way\n",
        "\n",
        "\n",
        "\n",
        "\n",
        "\n",
        "\n"
      ]
    },
    {
      "cell_type": "markdown",
      "metadata": {
        "id": "ZxJkIo5C8Xj_"
      },
      "source": [
        "# **Python Syntax**"
      ]
    },
    {
      "cell_type": "code",
      "execution_count": 19,
      "metadata": {
        "colab": {
          "base_uri": "https://localhost:8080/"
        },
        "id": "9uhiikghUECk",
        "outputId": "bf60da64-4ca7-45bf-973e-fe14486f4d60"
      },
      "outputs": [
        {
          "name": "stdout",
          "output_type": "stream",
          "text": [
            "hello\n"
          ]
        }
      ],
      "source": [
        "a = \"Hello\"\n",
        "a = 34\n",
        "print (\"hello\")"
      ]
    },
    {
      "cell_type": "code",
      "execution_count": 20,
      "metadata": {
        "colab": {
          "base_uri": "https://localhost:8080/"
        },
        "id": "9JQatGrZtojK",
        "outputId": "8148cf9d-8662-41c8-e403-f455257bf847"
      },
      "outputs": [
        {
          "name": "stdout",
          "output_type": "stream",
          "text": [
            "34\n"
          ]
        }
      ],
      "source": [
        "print (a)"
      ]
    },
    {
      "cell_type": "code",
      "execution_count": 21,
      "metadata": {
        "colab": {
          "base_uri": "https://localhost:8080/"
        },
        "id": "CgvFBPPzjmpC",
        "outputId": "dbb5d5ca-63ee-4eeb-86d3-eb722c6d1076"
      },
      "outputs": [
        {
          "name": "stdout",
          "output_type": "stream",
          "text": [
            "2345\n"
          ]
        }
      ],
      "source": [
        "print(2345)\n"
      ]
    },
    {
      "cell_type": "code",
      "execution_count": 22,
      "metadata": {
        "colab": {
          "base_uri": "https://localhost:8080/"
        },
        "id": "xA2jQO97Kp2A",
        "outputId": "8dca9801-1e87-4114-f089-68d2c0068b62"
      },
      "outputs": [
        {
          "name": "stdout",
          "output_type": "stream",
          "text": [
            "100\n",
            "Python\n"
          ]
        }
      ],
      "source": [
        "a = 100\n",
        "print(a)\n",
        "\n",
        "b = \"Python\"\n",
        "print(b)"
      ]
    },
    {
      "cell_type": "markdown",
      "metadata": {
        "id": "4bOO18Lh8_WD"
      },
      "source": [
        "# **Comment**\n",
        "Comments can be used to explain Python code.\n",
        "\n",
        "Comments can be used to make the code more readable.\n",
        "\n",
        "Comments can be used to prevent execution when testing code.\n",
        "\n",
        "\n",
        "2 types of comments in Python:\n",
        "\n",
        "\n",
        "*   Single line comment #\n",
        "*   Multi-line comment '''  '''\n",
        "\n"
      ]
    },
    {
      "cell_type": "markdown",
      "metadata": {
        "id": "uWxiA4Cmxx2F"
      },
      "source": []
    },
    {
      "cell_type": "code",
      "execution_count": 23,
      "metadata": {
        "colab": {
          "base_uri": "https://localhost:8080/"
        },
        "id": "e6qN87eP9e_K",
        "outputId": "1432bf0b-d3ff-4550-f272-cea1c9c57b4b"
      },
      "outputs": [
        {
          "name": "stdout",
          "output_type": "stream",
          "text": [
            "Let's learn about comments.\n",
            "Icode\n"
          ]
        }
      ],
      "source": [
        "print(\"Let's learn about comments.\")\n",
        "\n",
        "#print(\"it is a single line comment\")\n",
        "\n",
        "print(\"Icode\")\n"
      ]
    },
    {
      "cell_type": "code",
      "execution_count": 24,
      "metadata": {
        "colab": {
          "background_save": true,
          "base_uri": "https://localhost:8080/",
          "height": 145
        },
        "id": "Ckg3Itu_3zfc",
        "outputId": "d0c8557b-5f8f-43fe-d48f-362a64846e86"
      },
      "outputs": [
        {
          "name": "stdout",
          "output_type": "stream",
          "text": [
            "Multi-line String\n",
            "My name is ayesha. I'm a student at university.I'm a good student.\n"
          ]
        }
      ],
      "source": [
        "print(\"\"\"Multi-line String\"\"\")\n",
        "\"\"\"multi-line comment, you can use with every line or\n",
        "cskha k\n",
        " khzsf\"\"\"\n",
        "\n",
        "\n",
        "print(\"My name is ayesha. I'm a student at university.I'm a good student.\")"
      ]
    },
    {
      "cell_type": "markdown",
      "metadata": {
        "id": "3vHmW09PRU2n"
      },
      "source": [
        "# **Reserve words or keywords**\n",
        "\n",
        "Keywords are predefined, reserved words used in Python programming that have special meanings to the interpreter.\n",
        "\n",
        "We cannot use a keyword as a variable name, function name, or any other identifier. They are used to define the syntax and structure of the Python language.\n",
        "\n",
        "Following are some keywords in Python:\n",
        "\n",
        "\n",
        "**False,     is,     in,     Lambda,    True,    None,    if,     elif,    break,       else,    continue,    class,    not,    and,    or**"
      ]
    },
    {
      "cell_type": "markdown",
      "metadata": {
        "id": "MZs9KdyB_fXG"
      },
      "source": [
        "# **Python Variables**\n",
        "Variables are containers for storing data values.\n",
        "\n",
        "Python has no command for declaring a variable. There is no need to write the data type of a variable before it.\n",
        "\n",
        "A variable is created the moment you first assign a value to it."
      ]
    },
    {
      "cell_type": "code",
      "execution_count": 25,
      "metadata": {
        "colab": {
          "base_uri": "https://localhost:8080/"
        },
        "id": "Cpib25Ml_stE",
        "outputId": "aa22ee50-f1f1-40aa-e934-ec495341abdc"
      },
      "outputs": [
        {
          "name": "stdout",
          "output_type": "stream",
          "text": [
            "5\n",
            "x\n",
            "10.3\n",
            "5 + 10.3\n"
          ]
        }
      ],
      "source": [
        "x = 5\n",
        "y = 10.3\n",
        "print(x)\n",
        "print('x')\n",
        "print(y)\n",
        "print(x,\"+\",y)"
      ]
    },
    {
      "cell_type": "code",
      "execution_count": 26,
      "metadata": {
        "id": "SoywE2W_L6p_"
      },
      "outputs": [
        {
          "name": "stdout",
          "output_type": "stream",
          "text": [
            " Icode Guru\n",
            " Icode + Guru\n"
          ]
        }
      ],
      "source": [
        "a =\" Icode\"\n",
        "b = 'Guru'\n",
        "print(a,b)\n",
        "print(a,'+',b)       #Shortcut ctrl + /"
      ]
    },
    {
      "cell_type": "markdown",
      "metadata": {
        "id": "8gU2jJmnAETK"
      },
      "source": [
        "# **Rules for assigning name to variable**\n",
        "\n",
        "\n",
        "\n",
        "*   A variable name must start with a letter or the underscore character and there must be no white space in a variable name\n",
        "*   A variable name cannot start with a number\n",
        "\n",
        "\n",
        "*   A variable name can only contain alpha-numeric characters and underscores (A-z, 0-9, and _ ). No special characters are allowed i.e. @icode , Python$ are the invalid variables.\n",
        "*   Variable names are case-sensitive (age, Age and AGE are three different variables)\n",
        "\n",
        "\n",
        "\n",
        "\n",
        "\n",
        "\n",
        "\n",
        "\n",
        "\n",
        "\n"
      ]
    },
    {
      "cell_type": "code",
      "execution_count": 27,
      "metadata": {
        "colab": {
          "base_uri": "https://localhost:8080/"
        },
        "id": "mgDIpGXDBL4_",
        "outputId": "a097005b-f697-4d82-c131-c85fdf0d96c3"
      },
      "outputs": [
        {
          "name": "stdout",
          "output_type": "stream",
          "text": [
            "88.5\n"
          ]
        }
      ],
      "source": [
        "_myVar5  = \"iCodeGuru\"\n",
        "myVariableName = 95\n",
        "MyVariableName = 'Pakistan'\n",
        "myVariableName = 88.5\n",
        "print(myVariableName)"
      ]
    },
    {
      "cell_type": "code",
      "execution_count": 28,
      "metadata": {
        "id": "4SFaVDxzsAa_"
      },
      "outputs": [
        {
          "name": "stdout",
          "output_type": "stream",
          "text": [
            "95\n"
          ]
        }
      ],
      "source": [
        "myVariableName = 95\n",
        "#   myVariableName = 95\n",
        "#myVariableName y = 77\n",
        "#myVariableName@ = 33\n",
        "print(myVariableName)"
      ]
    },
    {
      "cell_type": "markdown",
      "metadata": {
        "id": "NrAxOhSVlbPu"
      },
      "source": [
        "# **Assigning values to the variable:**\n",
        "\n",
        "\n",
        "\n",
        "\n",
        "* Assigning multiple values to multiple variables\n",
        "  \n",
        "*   Assigning one value to multiple variables\n",
        "\n",
        "\n"
      ]
    },
    {
      "cell_type": "markdown",
      "metadata": {
        "id": "MtaIKigVepSo"
      },
      "source": [
        "#**Multiple Values to Multiple Variables**\n",
        "\n",
        "Python allows you to assign values to multiple variables in one line."
      ]
    },
    {
      "cell_type": "code",
      "execution_count": 29,
      "metadata": {
        "colab": {
          "base_uri": "https://localhost:8080/"
        },
        "id": "nkUQ51rSfMJf",
        "outputId": "46c2a3c1-45dc-4b69-beb8-3303685a87d3"
      },
      "outputs": [
        {
          "name": "stdout",
          "output_type": "stream",
          "text": [
            "Orange\n",
            "5\n",
            "Apple\n"
          ]
        }
      ],
      "source": [
        "x, y, z = \"Orange\", 5, \"Apple\"\n",
        "print(x)\n",
        "print(y)\n",
        "print(z)\n",
        "\n"
      ]
    },
    {
      "cell_type": "code",
      "execution_count": 30,
      "metadata": {
        "id": "zKYdwhkYtiV0"
      },
      "outputs": [
        {
          "name": "stdout",
          "output_type": "stream",
          "text": [
            "5\n",
            "8\n"
          ]
        }
      ],
      "source": [
        "a , b = 5 , 8\n",
        "print(a)\n",
        "print(b)"
      ]
    },
    {
      "cell_type": "markdown",
      "metadata": {
        "id": "ZSskfCdYfxtp"
      },
      "source": [
        "#**One Value to Multiple Variables**\n",
        "\n",
        "You can also assign the same value to multiple variables in one line."
      ]
    },
    {
      "cell_type": "code",
      "execution_count": 31,
      "metadata": {
        "colab": {
          "base_uri": "https://localhost:8080/"
        },
        "id": "g52y2k8ulbqd",
        "outputId": "d0079c2f-aa07-4038-ddfe-8838635d1000"
      },
      "outputs": [
        {
          "name": "stdout",
          "output_type": "stream",
          "text": [
            "Orange\n",
            "Orange\n",
            "Orange\n"
          ]
        }
      ],
      "source": [
        "a = b = c = \"Orange\"\n",
        "print(a)\n",
        "print(b)\n",
        "print(c)"
      ]
    },
    {
      "cell_type": "code",
      "execution_count": 32,
      "metadata": {
        "colab": {
          "base_uri": "https://localhost:8080/"
        },
        "id": "7nN8aIRQSfjX",
        "outputId": "158d3b09-0823-47a9-ebfd-5d9ec3009af7"
      },
      "outputs": [
        {
          "name": "stdout",
          "output_type": "stream",
          "text": [
            "2\n"
          ]
        }
      ],
      "source": [
        "b = 2\n",
        "print(b)"
      ]
    },
    {
      "cell_type": "code",
      "execution_count": 33,
      "metadata": {
        "colab": {
          "base_uri": "https://localhost:8080/"
        },
        "id": "AbcJ_8KESjFg",
        "outputId": "e5720d2d-49ad-41e9-92d0-b5d73d7ad268"
      },
      "outputs": [
        {
          "name": "stdout",
          "output_type": "stream",
          "text": [
            "2\n"
          ]
        }
      ],
      "source": [
        "#b = 45\n",
        "print(b)"
      ]
    },
    {
      "cell_type": "markdown",
      "metadata": {
        "id": "zmnYV2TCJZRo"
      },
      "source": [
        "#**Getting Address of a Variable**\n",
        "\n",
        "Use id function for it.\n",
        "\n",
        "The `id()` function returns a unique id for the specified object.\n",
        "\n",
        "All objects in Python has its own unique id.\n",
        "\n",
        "The id is assigned to the object when it is created.\n",
        "\n",
        "The id is the object's memory address, and will be different for each time you run the program."
      ]
    },
    {
      "cell_type": "code",
      "execution_count": 34,
      "metadata": {
        "colab": {
          "base_uri": "https://localhost:8080/"
        },
        "id": "_XiuE0Ke6-Va",
        "outputId": "c417e6e5-c0e2-448e-831c-09664b8d0e9e"
      },
      "outputs": [
        {
          "name": "stdout",
          "output_type": "stream",
          "text": [
            "2066337959696\n",
            "140715632900568\n"
          ]
        }
      ],
      "source": [
        "X = \"Icode\"\n",
        "print(id(139810907914576))\n",
        "b = 2\n",
        "print(id(b))"
      ]
    },
    {
      "cell_type": "code",
      "execution_count": 35,
      "metadata": {
        "colab": {
          "base_uri": "https://localhost:8080/"
        },
        "id": "uM4Haa2eKJFW",
        "outputId": "e2fc1817-0e87-4a08-9702-0144cb8e172e"
      },
      "outputs": [
        {
          "name": "stdout",
          "output_type": "stream",
          "text": [
            "5\n",
            "5\n",
            "140715632900664\n",
            "140715632900664\n"
          ]
        }
      ],
      "source": [
        "x = 5\n",
        "y = 5\n",
        "print(x)\n",
        "print(y)\n",
        "print(id(x))\n",
        "print(id(y))"
      ]
    },
    {
      "cell_type": "code",
      "execution_count": 36,
      "metadata": {
        "colab": {
          "base_uri": "https://localhost:8080/"
        },
        "id": "ZurnXXORKiY9",
        "outputId": "20c7874c-f1b3-4f04-990e-ac11d3e70b7d"
      },
      "outputs": [
        {
          "name": "stdout",
          "output_type": "stream",
          "text": [
            "2066337984464\n",
            "2066338215952\n"
          ]
        }
      ],
      "source": [
        "x = \"Hello\"\n",
        "print(id(x))\n",
        "y = \"Hello1\"\n",
        "print(id(y))"
      ]
    },
    {
      "cell_type": "markdown",
      "metadata": {
        "id": "z2l5XsA6CK6P"
      },
      "source": [
        "# **Data Types**\n",
        "Following are some built-in data types in Python:\n",
        "\n",
        "\n",
        "*   Text Type:  `str`  -->   \" \"\n",
        "*   Numeric Types:  `int`, `float`  -->  123, 12.97683\n",
        "*   Sequence Types: `list`, `tuple`  -->  [1,3,4,5] , (1,8,6,4)\n",
        "*   Mapping Type: `dict`  -->  {}\n",
        "*   Set Type: `set` -->  {[ ]}\n",
        "*   Boolean Type: `bool`  -->  TRUE and FALSE\n",
        "\n",
        "\n",
        "\n",
        "\n",
        "\n",
        "\n",
        "\n",
        "---\n"
      ]
    },
    {
      "cell_type": "code",
      "execution_count": 37,
      "metadata": {
        "id": "2jLuBslwSHLW"
      },
      "outputs": [
        {
          "name": "stdout",
          "output_type": "stream",
          "text": [
            "Programming\n"
          ]
        }
      ],
      "source": [
        "string_var = \"Programming\"\n",
        "print(string_var)"
      ]
    },
    {
      "cell_type": "code",
      "execution_count": 38,
      "metadata": {
        "id": "bKR03SKr27Pj"
      },
      "outputs": [
        {
          "name": "stdout",
          "output_type": "stream",
          "text": [
            "20\n"
          ]
        }
      ],
      "source": [
        "integer_var = 20\n",
        "print(integer_var)"
      ]
    },
    {
      "cell_type": "code",
      "execution_count": 39,
      "metadata": {
        "id": "rUjYOuKF24jT"
      },
      "outputs": [
        {
          "name": "stdout",
          "output_type": "stream",
          "text": [
            "18.23\n"
          ]
        }
      ],
      "source": [
        "float_var = 18.23\n",
        "print(float_var)"
      ]
    },
    {
      "cell_type": "code",
      "execution_count": 40,
      "metadata": {
        "id": "4xL9_Vnu2zYm"
      },
      "outputs": [
        {
          "name": "stdout",
          "output_type": "stream",
          "text": [
            "False\n"
          ]
        }
      ],
      "source": [
        "bool_var = False\n",
        "print(bool_var)"
      ]
    },
    {
      "cell_type": "markdown",
      "metadata": {
        "id": "57mos7tLSEBM"
      },
      "source": [
        "**Getting the Data type**\n",
        "\n",
        "You can get the data type of any object by using the **type()** function:\n",
        "\n",
        "\n",
        "\n",
        "\n"
      ]
    },
    {
      "cell_type": "code",
      "execution_count": 41,
      "metadata": {
        "colab": {
          "base_uri": "https://localhost:8080/"
        },
        "id": "ynlD4R3ZYCnO",
        "outputId": "90d14567-02f2-457f-ea0b-9b1be5e7b6b5"
      },
      "outputs": [
        {
          "name": "stdout",
          "output_type": "stream",
          "text": [
            "<class 'str'>\n",
            "70\n"
          ]
        }
      ],
      "source": [
        "a = \"70\"\n",
        "print(type(a))\n",
        "print(a)"
      ]
    },
    {
      "cell_type": "code",
      "execution_count": 42,
      "metadata": {
        "id": "Sj3EjcH73Szc"
      },
      "outputs": [
        {
          "name": "stdout",
          "output_type": "stream",
          "text": [
            "<class 'float'>\n"
          ]
        }
      ],
      "source": [
        "var2 = 2.5\n",
        "print(type(var2))"
      ]
    },
    {
      "cell_type": "code",
      "execution_count": 43,
      "metadata": {
        "colab": {
          "base_uri": "https://localhost:8080/"
        },
        "id": "I4bPwlaA3Xe9",
        "outputId": "07086804-73ee-4d55-bbeb-b110f89b2ae3"
      },
      "outputs": [
        {
          "name": "stdout",
          "output_type": "stream",
          "text": [
            "<class 'bool'>\n"
          ]
        }
      ],
      "source": [
        "var4 = True\n",
        "print(type(var4))"
      ]
    },
    {
      "cell_type": "code",
      "execution_count": 44,
      "metadata": {
        "colab": {
          "base_uri": "https://localhost:8080/"
        },
        "id": "80xVgflRDVEq",
        "outputId": "0b88998a-5246-492e-a9d6-af07ffdc8c17"
      },
      "outputs": [
        {
          "name": "stdout",
          "output_type": "stream",
          "text": [
            "1\n",
            "5\n"
          ]
        }
      ],
      "source": [
        "Var1 = 5\n",
        "var1 = 1\n",
        "print(var1)\n",
        "print(Var1)\n"
      ]
    },
    {
      "cell_type": "code",
      "execution_count": 45,
      "metadata": {
        "colab": {
          "base_uri": "https://localhost:8080/"
        },
        "id": "4zaWOFjE_5Gv",
        "outputId": "b79816b0-da5a-48a2-a38b-4b36c1d65bc6"
      },
      "outputs": [
        {
          "name": "stdout",
          "output_type": "stream",
          "text": [
            "<class 'str'>\n"
          ]
        }
      ],
      "source": [
        "a = '100'\n",
        "print(type(a))"
      ]
    },
    {
      "cell_type": "markdown",
      "metadata": {
        "id": "2JjgGIWhm8sS"
      },
      "source": [
        "# **Type Casting in Python**\n",
        "We can change the data type of a variable or a value.\n"
      ]
    },
    {
      "cell_type": "code",
      "execution_count": 46,
      "metadata": {
        "colab": {
          "base_uri": "https://localhost:8080/"
        },
        "id": "PhxqMoXxYrR-",
        "outputId": "1c072366-e559-469f-ce9b-e425b02515c8"
      },
      "outputs": [
        {
          "name": "stdout",
          "output_type": "stream",
          "text": [
            "89\n",
            "<class 'int'>\n"
          ]
        }
      ],
      "source": [
        "a = 89.9\n",
        "a = int(a)\n",
        "print(a)\n",
        "print(type(a))"
      ]
    },
    {
      "cell_type": "code",
      "execution_count": 47,
      "metadata": {
        "colab": {
          "base_uri": "https://localhost:8080/"
        },
        "id": "SvRSGXMYAKo3",
        "outputId": "f11a48a1-c73e-4439-cf51-f89ce4dcb737"
      },
      "outputs": [
        {
          "name": "stdout",
          "output_type": "stream",
          "text": [
            "789.8\n",
            "<class 'str'>\n"
          ]
        }
      ],
      "source": [
        "a =str(789.8)\n",
        "print(a)\n",
        "print(type(a))"
      ]
    },
    {
      "cell_type": "code",
      "execution_count": 48,
      "metadata": {
        "colab": {
          "base_uri": "https://localhost:8080/"
        },
        "id": "OjtwsdpInRju",
        "outputId": "360f8578-1f7e-42d6-95ce-039b474a2653"
      },
      "outputs": [
        {
          "name": "stdout",
          "output_type": "stream",
          "text": [
            "<class 'str'>\n",
            "105\n",
            "<class 'int'>\n",
            "90.8\n",
            "<class 'str'>\n"
          ]
        }
      ],
      "source": [
        "first = \"105\"\n",
        "print(type(first))\n",
        "first = int(first)\n",
        "print(first)\n",
        "print(type(first))\n",
        "second = 90.8\n",
        "third = str(second)\n",
        "print(third)\n",
        "print(type(third))\n"
      ]
    },
    {
      "cell_type": "code",
      "execution_count": 49,
      "metadata": {
        "colab": {
          "base_uri": "https://localhost:8080/"
        },
        "id": "CVstGXnt8sQ4",
        "outputId": "546a3d6c-3d05-444a-f4d3-f4795e9b0be9"
      },
      "outputs": [
        {
          "name": "stdout",
          "output_type": "stream",
          "text": [
            "False\n",
            "<class 'str'>\n"
          ]
        }
      ],
      "source": [
        "string = False\n",
        "string1 = str(string)\n",
        "print(string1)\n",
        "print(type(string1))"
      ]
    },
    {
      "cell_type": "code",
      "execution_count": 50,
      "metadata": {
        "colab": {
          "base_uri": "https://localhost:8080/"
        },
        "id": "VexVEAPo-Gwz",
        "outputId": "30df8a30-ed23-4741-db81-5e5076b33789"
      },
      "outputs": [
        {
          "name": "stdout",
          "output_type": "stream",
          "text": [
            "False\n"
          ]
        }
      ],
      "source": [
        "integer = 0\n",
        "boolean = bool(integer)\n",
        "print(boolean)"
      ]
    },
    {
      "cell_type": "code",
      "execution_count": 51,
      "metadata": {
        "colab": {
          "base_uri": "https://localhost:8080/"
        },
        "id": "IaK-c3HV-bgY",
        "outputId": "ae14d0bd-465c-4560-dc34-bb0c9e24a742"
      },
      "outputs": [
        {
          "name": "stdout",
          "output_type": "stream",
          "text": [
            "0\n"
          ]
        }
      ],
      "source": [
        "boolean = False\n",
        "integer = int(boolean)\n",
        "print(integer)"
      ]
    },
    {
      "cell_type": "code",
      "execution_count": null,
      "metadata": {
        "colab": {
          "base_uri": "https://localhost:8080/"
        },
        "id": "J9zVvl-IcNrn",
        "outputId": "39d8d49e-fc94-4a0d-ff42-8d57010a6856"
      },
      "outputs": [],
      "source": [
        "marks = float(input(\"Enter your marks =\"))\n",
        "print(marks)\n",
        "type(marks)"
      ]
    },
    {
      "cell_type": "code",
      "execution_count": null,
      "metadata": {
        "colab": {
          "base_uri": "https://localhost:8080/"
        },
        "id": "evfHsgzxbZ5t",
        "outputId": "f9fef52e-7d5f-48e6-88bd-cfb2811b5eaa"
      },
      "outputs": [],
      "source": [
        "marks = int(input(\"Enter your obtained marks =\"))\n",
        "total_marks = int(input('Enter total marks of Maths subject ='))\n",
        "percentage = marks/total_marks*100\n",
        "print(int(percentage), \"%\")"
      ]
    },
    {
      "cell_type": "code",
      "execution_count": null,
      "metadata": {
        "colab": {
          "base_uri": "https://localhost:8080/"
        },
        "id": "OMf1DQ5Eae9_",
        "outputId": "0ae14c93-6ae0-49b5-809f-9e79cfe212b7"
      },
      "outputs": [
        {
          "name": "stdout",
          "output_type": "stream",
          "text": [
            "Enter your age: 22\n",
            "your age is:  22\n",
            "your age after 5 years will be = 27\n"
          ]
        }
      ],
      "source": [
        "# Input Function\n",
        "age = int(input(\"Enter your age: \"))\n",
        "print(\"your age is: \", age)\n",
        "print(\"your age after 5 years will be =\",age + 5 )"
      ]
    },
    {
      "cell_type": "code",
      "execution_count": null,
      "metadata": {
        "id": "Tj9fOJAiqfef"
      },
      "outputs": [],
      "source": [
        "px = int(input(\"Enter anything\"))\n",
        "#print(x + 5)\n",
        "#print(type(x))"
      ]
    },
    {
      "cell_type": "code",
      "execution_count": 1,
      "metadata": {
        "id": "CHxQvbXywH_n"
      },
      "outputs": [
        {
          "name": "stdout",
          "output_type": "stream",
          "text": [
            "My name is Tahmas.\n"
          ]
        }
      ],
      "source": [
        "print('My name is Tahmas.')\n",
        "a = \"6\""
      ]
    },
    {
      "cell_type": "code",
      "execution_count": 2,
      "metadata": {
        "colab": {
          "base_uri": "https://localhost:8080/"
        },
        "id": "fDL4qYnwJcuR",
        "outputId": "25b127c6-8910-4c0a-8755-b6559da44132"
      },
      "outputs": [
        {
          "name": "stdout",
          "output_type": "stream",
          "text": [
            "True\n",
            "<class 'bool'>\n"
          ]
        }
      ],
      "source": [
        "x = \"Python is\"\n",
        "X = bool(x)\n",
        "print(X)\n",
        "print(type(X))"
      ]
    },
    {
      "cell_type": "markdown",
      "metadata": {
        "id": "eVHjgPtgD2ym"
      },
      "source": [
        "# **Operators**\n",
        "\n",
        "Operators are used to perform operations on variables and values.\n",
        "Python divides the operators in the following groups:\n",
        "*   Arithmetic operators\n",
        "\n",
        "*   Assignment operators\n",
        "\n",
        "*   Comparison operators\n",
        "\n",
        "*   Logical operators\n",
        "\n",
        "*   Membership operators\n",
        "\n"
      ]
    },
    {
      "cell_type": "markdown",
      "metadata": {
        "id": "aTaUbPlB6lgG"
      },
      "source": [
        "#**Arithmetic Operators**\n",
        "\n",
        "* Addition +\n",
        "* Subtraction -\n",
        "* Multiplicatin *\n",
        "* Division /\n",
        "* Modulus %\n",
        "* Exponential **\n",
        "* Floor Division //"
      ]
    },
    {
      "cell_type": "code",
      "execution_count": null,
      "metadata": {
        "colab": {
          "base_uri": "https://localhost:8080/"
        },
        "id": "dTUJ5NK3CDlE",
        "outputId": "b8a82f98-ad01-4ed4-edd2-f6f2a595bc3e"
      },
      "outputs": [],
      "source": [
        "x = int(input())\n",
        "print(type(x))\n",
        "print(x+2)"
      ]
    },
    {
      "cell_type": "code",
      "execution_count": null,
      "metadata": {
        "colab": {
          "base_uri": "https://localhost:8080/"
        },
        "id": "ZWpuvIivK1ZV",
        "outputId": "450bbd29-82a5-4967-c670-db586bf09ef4"
      },
      "outputs": [
        {
          "name": "stdout",
          "output_type": "stream",
          "text": [
            "Enter username: 56\n",
            "56\n",
            "<class 'int'>\n",
            "58\n"
          ]
        }
      ],
      "source": [
        "#input function\n",
        "a = int(input(\"Enter username: \"))\n",
        "print(a)\n",
        "print(type(a))\n",
        "print(a+2)"
      ]
    },
    {
      "cell_type": "code",
      "execution_count": null,
      "metadata": {
        "colab": {
          "base_uri": "https://localhost:8080/"
        },
        "id": "7btA27KqMOVj",
        "outputId": "4c98ed33-67d9-455c-e720-35db79dddfc4"
      },
      "outputs": [
        {
          "name": "stdout",
          "output_type": "stream",
          "text": [
            "12.0\n"
          ]
        }
      ],
      "source": [
        "print(8.0+4)"
      ]
    },
    {
      "cell_type": "code",
      "execution_count": null,
      "metadata": {
        "colab": {
          "base_uri": "https://localhost:8080/"
        },
        "id": "EUATg_aPEjvT",
        "outputId": "e10b4988-545a-49bf-b649-33850be195f2"
      },
      "outputs": [
        {
          "name": "stdout",
          "output_type": "stream",
          "text": [
            "Enter a number 5\n",
            "9\n",
            "<class 'int'>\n"
          ]
        }
      ],
      "source": [
        "#Addition\n",
        "a = int(input(\"Enter a number \"))\n",
        "b = 4\n",
        "c = a + b\n",
        "print(c)\n",
        "print(type(c))\n",
        "#print(3 + 7)\n"
      ]
    },
    {
      "cell_type": "code",
      "execution_count": null,
      "metadata": {
        "colab": {
          "base_uri": "https://localhost:8080/"
        },
        "id": "Z3mofTaQFDz7",
        "outputId": "5edfa5e5-5fe4-4bfe-9197-ed43b9c76192"
      },
      "outputs": [
        {
          "name": "stdout",
          "output_type": "stream",
          "text": [
            "-1.0\n",
            "<class 'float'>\n"
          ]
        }
      ],
      "source": [
        "#Subtraction\n",
        "a = 4\n",
        "b = 5.0\n",
        "\n",
        "print(a - b)\n",
        "print(type(a - b))\n"
      ]
    },
    {
      "cell_type": "code",
      "execution_count": null,
      "metadata": {
        "colab": {
          "base_uri": "https://localhost:8080/"
        },
        "id": "DI1-Tq7sFUee",
        "outputId": "bbbdd346-f44f-4007-8a07-30e0d3eb33d2"
      },
      "outputs": [
        {
          "name": "stdout",
          "output_type": "stream",
          "text": [
            "8.0\n",
            "<class 'float'>\n"
          ]
        }
      ],
      "source": [
        "#Multiplication\n",
        "a = 2.0\n",
        "b = 4\n",
        "print(a*b)\n",
        "print(type(a*b))"
      ]
    },
    {
      "cell_type": "code",
      "execution_count": null,
      "metadata": {
        "colab": {
          "base_uri": "https://localhost:8080/"
        },
        "id": "vbHi8H32FgUw",
        "outputId": "b569dcb3-7a77-40ea-b387-6ad19e09748c"
      },
      "outputs": [
        {
          "name": "stdout",
          "output_type": "stream",
          "text": [
            "1.0\n",
            "<class 'float'>\n",
            "1 <class 'int'>\n"
          ]
        }
      ],
      "source": [
        "#Division (always gives float)\n",
        "x = 5\n",
        "y = 5\n",
        "z = x/y\n",
        "print(z)\n",
        "print(type(z))\n",
        "var = int(z)\n",
        "print(var, type(var))"
      ]
    },
    {
      "cell_type": "code",
      "execution_count": null,
      "metadata": {
        "colab": {
          "base_uri": "https://localhost:8080/"
        },
        "id": "AKLq8RAh8RL1",
        "outputId": "ef1aa934-0bd9-4383-96d0-3ac9f6726c0c"
      },
      "outputs": [
        {
          "name": "stdout",
          "output_type": "stream",
          "text": [
            "1\n",
            "<class 'int'>\n"
          ]
        }
      ],
      "source": [
        "#Floor Division (always gives integer)\n",
        "x = 9\n",
        "y = 5\n",
        "z = x//y\n",
        "print(z)\n",
        "print(type(z))"
      ]
    },
    {
      "cell_type": "code",
      "execution_count": null,
      "metadata": {
        "colab": {
          "base_uri": "https://localhost:8080/"
        },
        "id": "JrVD0C9nGlai",
        "outputId": "aeb82e13-f928-4d06-eebf-95ab82691322"
      },
      "outputs": [
        {
          "name": "stdout",
          "output_type": "stream",
          "text": [
            "25\n",
            "<class 'int'>\n"
          ]
        }
      ],
      "source": [
        "#Exponentiation or Exponential\n",
        "x = 5\n",
        "y = 2   # 5 raised to power 2, 5*5\n",
        "print(x**y)  # 1st value = base, 2nd value = power\n",
        "print(type(x**y))"
      ]
    },
    {
      "cell_type": "code",
      "execution_count": null,
      "metadata": {
        "colab": {
          "base_uri": "https://localhost:8080/"
        },
        "id": "j8GEt7xeGyTA",
        "outputId": "091d1fec-e09c-4806-ba7c-b05bd078f51e"
      },
      "outputs": [
        {
          "name": "stdout",
          "output_type": "stream",
          "text": [
            "4\n",
            "<class 'int'>\n"
          ]
        }
      ],
      "source": [
        "#Modulus (gives remainder)\n",
        "x = 9\n",
        "y = 5\n",
        "print(x%y)\n",
        "print(type(x%y))"
      ]
    },
    {
      "cell_type": "markdown",
      "metadata": {
        "id": "bujUaB2uJWv1"
      },
      "source": [
        "#**Operator Precedence**\n",
        "\n",
        "\n",
        "paranthesis\n",
        "\n",
        "exponentiation\n",
        "\n",
        "multiplication / division / f.d / modulus\n",
        "\n",
        "addition, subtraction"
      ]
    },
    {
      "cell_type": "markdown",
      "metadata": {
        "id": "-tWT-AhLEyRD"
      },
      "source": []
    },
    {
      "cell_type": "code",
      "execution_count": null,
      "metadata": {
        "id": "2H4OLn1vJf9j"
      },
      "outputs": [],
      "source": [
        "print(12 + 5 * (4 - 2))\n"
      ]
    },
    {
      "cell_type": "code",
      "execution_count": null,
      "metadata": {
        "id": "xHImTvVRK6ca"
      },
      "outputs": [],
      "source": [
        "print(4 * 3 + 2 / 2)\n",
        "# BODMAS"
      ]
    },
    {
      "cell_type": "markdown",
      "metadata": {
        "id": "GKFHVFTi_ume"
      },
      "source": [
        "#**Assignment Operators**\n",
        "\n",
        "Assignment operators are used to assign values to variables"
      ]
    },
    {
      "cell_type": "code",
      "execution_count": null,
      "metadata": {
        "colab": {
          "base_uri": "https://localhost:8080/"
        },
        "id": "I07XLTUaAQPp",
        "outputId": "d012f785-5e9b-4ba5-ea77-a2c9fa0ab834"
      },
      "outputs": [
        {
          "name": "stdout",
          "output_type": "stream",
          "text": [
            "125\n"
          ]
        }
      ],
      "source": [
        "x = 7\n",
        "#x += 2    # x = x+2\n",
        "#x -= 3      # x = x - 3\n",
        "#x *= x       # x = 5*5\n",
        "#x /= 3        # x = x/3\n",
        "#x %= 3\n",
        "#x //= 3\n",
        "x **= 3\n",
        "print(x)"
      ]
    },
    {
      "cell_type": "code",
      "execution_count": null,
      "metadata": {
        "colab": {
          "base_uri": "https://localhost:8080/"
        },
        "id": "bPPSUQWGGnQ8",
        "outputId": "be1ac710-3856-424d-e628-8247c2205a92"
      },
      "outputs": [
        {
          "name": "stdout",
          "output_type": "stream",
          "text": [
            "32\n"
          ]
        }
      ],
      "source": [
        "x = 2\n",
        "x **= 5\n",
        "x = x**5\n",
        "print(x)"
      ]
    },
    {
      "cell_type": "markdown",
      "metadata": {
        "id": "ZcJEj7woXxKl"
      },
      "source": [
        "#**Comparison Operators**\n",
        "\n",
        "\n",
        "These are used to compare two variables with each other.\n",
        "\n",
        "\">\"  is greater than\n",
        "\n",
        "\"<\"  is smaller than\n",
        "\n",
        "\">=\"  is greater than or equal to\n",
        "\n",
        "\"<=\"  is smaller than or equal to\n",
        "\n",
        "\"==\"  is equal to\n",
        "\n",
        "\"!=\" is not equal to"
      ]
    },
    {
      "cell_type": "code",
      "execution_count": null,
      "metadata": {
        "colab": {
          "base_uri": "https://localhost:8080/"
        },
        "id": "Jouww3ylFzoq",
        "outputId": "5ab413b6-66b6-421b-c3fb-29ea1473dbb3"
      },
      "outputs": [
        {
          "name": "stdout",
          "output_type": "stream",
          "text": [
            "True\n"
          ]
        }
      ],
      "source": [
        "print(5!=7)"
      ]
    },
    {
      "cell_type": "code",
      "execution_count": null,
      "metadata": {
        "colab": {
          "base_uri": "https://localhost:8080/"
        },
        "id": "GzCdd3odZJKj",
        "outputId": "e126378b-1123-4367-959f-ec1673be81bc"
      },
      "outputs": [
        {
          "name": "stdout",
          "output_type": "stream",
          "text": [
            "True\n",
            "False\n",
            "True\n",
            "False\n"
          ]
        }
      ],
      "source": [
        "a = 7\n",
        "b = 10\n",
        "print(a!=b)\n",
        "print(a==b)\n",
        "print(a<b)\n",
        "print(a>b)\n"
      ]
    },
    {
      "cell_type": "markdown",
      "metadata": {
        "id": "KfUhahdTsgQk"
      },
      "source": [
        "# **Logical Operators**\n",
        "\n",
        "Python has three Boolean operators, or logical operators: and , or , and not.\n",
        "\n",
        "Logical operators are used to combine conditional statements\n",
        "\n",
        "  \n",
        "\n",
        "`and` \t      Returns \"True\" if both statements are true\n",
        "`or`\t        Returns \"True\" if one of the statements is true\n",
        "`not`\t        Reverse the result, returns \"False\" if the result is true\n"
      ]
    },
    {
      "cell_type": "code",
      "execution_count": null,
      "metadata": {
        "colab": {
          "base_uri": "https://localhost:8080/"
        },
        "id": "cDBQCh4QuLIL",
        "outputId": "f9f0f69d-6e0d-4bc3-eee6-1221d048f53e"
      },
      "outputs": [
        {
          "name": "stdout",
          "output_type": "stream",
          "text": [
            "True\n",
            "False\n"
          ]
        }
      ],
      "source": [
        "x = 9\n",
        "print(x < 11 and  x < 9)\n",
        "print(x < 11 or  x < 9)\n",
        "print(not(x < 5 or x < 10))"
      ]
    },
    {
      "cell_type": "code",
      "execution_count": null,
      "metadata": {
        "id": "OfoblWdsIzCj"
      },
      "outputs": [],
      "source": [
        "x = 9\n",
        "print(not x>10)"
      ]
    },
    {
      "cell_type": "code",
      "execution_count": null,
      "metadata": {
        "colab": {
          "base_uri": "https://localhost:8080/"
        },
        "id": "sc7w5_BfUxcO",
        "outputId": "763d84df-b42a-4c69-b146-ef36ce448f1d"
      },
      "outputs": [
        {
          "name": "stdout",
          "output_type": "stream",
          "text": [
            "True\n"
          ]
        }
      ],
      "source": [
        "a = 80\n",
        "b = 70\n",
        "print(a==b or a>b)"
      ]
    },
    {
      "cell_type": "markdown",
      "metadata": {
        "id": "qKi--zbmEejZ"
      },
      "source": [
        "#**Membership Operators**\n",
        "\n",
        "Membership operators are used to test if a sequence is presented in an object\n",
        "\n",
        "`in` Returns \"True\" if a sequence with the specified value is present in the object\n",
        "\n",
        "`not in` Returns \"True\" if a sequence with the specified value is not present in the object"
      ]
    },
    {
      "cell_type": "code",
      "execution_count": null,
      "metadata": {
        "id": "lj1bCggAPlfI"
      },
      "outputs": [],
      "source": [
        "var1 = \"Python for Beginners\"\n",
        "print(f in var1)\n",
        "\n",
        "var2 = \"orange\", \"3.4\",6\n",
        "print(5 in var1)\n"
      ]
    },
    {
      "cell_type": "markdown",
      "metadata": {
        "id": "TL7VnpFf65m8"
      },
      "source": [
        "#**Identity Operators**\n",
        "\n",
        "Identity operators are used to compare the objects, not if they are equal, but if they are actually the same object, with the same memory location.\n",
        "\n",
        "`is` Returns True if both variables are the same object\n",
        "\n",
        "`is not` Returns True if both variables are not the same object"
      ]
    },
    {
      "cell_type": "code",
      "execution_count": null,
      "metadata": {
        "colab": {
          "base_uri": "https://localhost:8080/"
        },
        "id": "wbw-CcWl7cKe",
        "outputId": "98b8819c-ce74-4bdb-a77a-374f28336308"
      },
      "outputs": [
        {
          "name": "stdout",
          "output_type": "stream",
          "text": [
            "False\n",
            "140497898681552\n",
            "140497898674192\n"
          ]
        }
      ],
      "source": [
        "a = 10.1\n",
        "b = 10.1\n",
        "\n",
        "print(a is b)\n",
        "print(id(a))\n",
        "print(id(b))"
      ]
    },
    {
      "cell_type": "code",
      "execution_count": null,
      "metadata": {
        "colab": {
          "base_uri": "https://localhost:8080/"
        },
        "id": "mpPQ-EyILRbP",
        "outputId": "f7c3a959-9926-4877-bf1c-d08faaba8226"
      },
      "outputs": [
        {
          "name": "stdout",
          "output_type": "stream",
          "text": [
            "False\n",
            "137488480354832\n",
            "137488473273776\n"
          ]
        }
      ],
      "source": [
        "a = 10\n",
        "b = \"10\"\n",
        "#a = 11\n",
        "print(a is b)\n",
        "print(id(a))\n",
        "print(id(b))"
      ]
    },
    {
      "cell_type": "markdown",
      "metadata": {
        "id": "ZjU1vE_8mFH1"
      },
      "source": [
        "#**Python Strings**\n",
        "\n",
        "Strings in python are surrounded by either single quotation marks, or double quotation marks.\n",
        "\n",
        "You can display a string literal with the `print()` function"
      ]
    },
    {
      "cell_type": "code",
      "execution_count": null,
      "metadata": {
        "colab": {
          "base_uri": "https://localhost:8080/"
        },
        "id": "os7Zj6bCtw70",
        "outputId": "81ba50bf-fa10-4d44-9a5b-f5c44bd02e24"
      },
      "outputs": [
        {
          "name": "stdout",
          "output_type": "stream",
          "text": [
            "Python\n",
            "Programming\n",
            "Python Programming\n"
          ]
        }
      ],
      "source": [
        "\n",
        "x = \"Python \"\n",
        "print(x)\n",
        "y = 'Programming'\n",
        "print(y)\n",
        "print(x,y)\n"
      ]
    },
    {
      "cell_type": "markdown",
      "metadata": {
        "id": "UgeAJh4et7fq"
      },
      "source": [
        "# **Multiline Strings**\n",
        "\n",
        "\n",
        "You can assign a multiline string to a variable by using three quotes or three single quotes:\n",
        "\n",
        "The line breaks are inserted at the same position as in the code.\n",
        "\n"
      ]
    },
    {
      "cell_type": "code",
      "execution_count": null,
      "metadata": {
        "colab": {
          "base_uri": "https://localhost:8080/"
        },
        "id": "uSlo8847ufCF",
        "outputId": "37751076-40c6-429f-ec7b-c2867a29bde3"
      },
      "outputs": [
        {
          "name": "stdout",
          "output_type": "stream",
          "text": [
            "Hello there I'm learning \"python\"\n",
            "\n",
            " programming language!\n",
            "Now, we are learning about multiline string\n"
          ]
        }
      ],
      "source": [
        "message1 = \"\"\"Hello there I'm learning \"python\"\n",
        "\n",
        " programming language!\"\"\"\n",
        "print(message1)\n",
        "message2 = \"Now, we are learning about multiline string\"\n",
        "print(message2)"
      ]
    },
    {
      "cell_type": "code",
      "execution_count": null,
      "metadata": {
        "colab": {
          "base_uri": "https://localhost:8080/"
        },
        "id": "PkHmkTXLKBJm",
        "outputId": "2f091923-2423-4a6e-8d9b-f6b69a43bf3d"
      },
      "outputs": [
        {
          "name": "stdout",
          "output_type": "stream",
          "text": [
            "multiline\n",
            "comment\n"
          ]
        }
      ],
      "source": [
        "a = \"\"\"multiline\n",
        "comment\"\"\"\n",
        "print(a)"
      ]
    },
    {
      "cell_type": "markdown",
      "metadata": {
        "id": "TwepLN044vdr"
      },
      "source": [
        "# **String Concatenation**\n",
        "To concatenate, or combine, two strings you can use the \"+\" operator."
      ]
    },
    {
      "cell_type": "code",
      "execution_count": null,
      "metadata": {
        "colab": {
          "base_uri": "https://localhost:8080/"
        },
        "id": "oF-WfNwA40kj",
        "outputId": "f4dd61e2-aa3d-429f-f0d3-298ebf75daa1"
      },
      "outputs": [
        {
          "name": "stdout",
          "output_type": "stream",
          "text": [
            "iCode\n",
            "Guru\n",
            "python\n",
            "iCode Guru python\n"
          ]
        }
      ],
      "source": [
        "x = \"iCode\"\n",
        "y = \"Guru\"\n",
        "z = \"python\"\n",
        "print(x+\"\\n\" +y+\"\\n\" +z)\n",
        "\n",
        "# Both have same working.....\n",
        "print(x + \" \" + y + \" \" + z)\n",
        "\n"
      ]
    },
    {
      "cell_type": "markdown",
      "metadata": {
        "id": "XcjBfQarvPQU"
      },
      "source": [
        "# **Strings are Arrays:**\n",
        "\n",
        "Like many other popular programming languages, strings in Python are arrays of bytes representing unicode characters.\n",
        "\n",
        "However, Python does not have a character data type, a single character is simply a string with a length of 1.\n",
        "\n",
        "Square brackets can be used to access elements of the string."
      ]
    },
    {
      "cell_type": "code",
      "execution_count": null,
      "metadata": {
        "colab": {
          "base_uri": "https://localhost:8080/"
        },
        "id": "r3GcrBPuLt9F",
        "outputId": "da6190b0-c8c2-4e7b-8ea8-e4a34e231548"
      },
      "outputs": [
        {
          "name": "stdout",
          "output_type": "stream",
          "text": [
            "o\n",
            "H\n",
            "5\n"
          ]
        }
      ],
      "source": [
        "x = \"Hello\"\n",
        "print(x[4])\n",
        "print(x[0])\n",
        "#print(x[5])\n",
        "print(len(x))\n",
        "\n",
        "message = \"\"\"Hello there, I am\n",
        "leraning Python \"\"\"\n",
        "#print(len(message))\n"
      ]
    },
    {
      "cell_type": "code",
      "execution_count": null,
      "metadata": {
        "id": "nYTHtstyRwyn"
      },
      "outputs": [],
      "source": []
    },
    {
      "cell_type": "markdown",
      "metadata": {
        "id": "5NDKxFHmwwO1"
      },
      "source": [
        "# **String Length**\n",
        "\n",
        "\n",
        "To get the length of a string, use the len() function."
      ]
    },
    {
      "cell_type": "code",
      "execution_count": null,
      "metadata": {
        "colab": {
          "base_uri": "https://localhost:8080/"
        },
        "id": "5Hc-oM43w4Nm",
        "outputId": "0869a280-ee74-48a2-f326-bac0a7173d0e"
      },
      "outputs": [
        {
          "name": "stdout",
          "output_type": "stream",
          "text": [
            "27\n",
            "e\n"
          ]
        }
      ],
      "source": [
        "string = \"Python Programming Language\"\n",
        "print(len(string))\n",
        "print(string[26])"
      ]
    },
    {
      "cell_type": "markdown",
      "metadata": {
        "id": "qs9LxCCA8vKo"
      },
      "source": [
        "# **String Index:**\n",
        "\n",
        "We can use index() method to find the index of a specific character or substring in a string."
      ]
    },
    {
      "cell_type": "code",
      "execution_count": null,
      "metadata": {
        "colab": {
          "base_uri": "https://localhost:8080/"
        },
        "id": "zAO5aHoJ9l-S",
        "outputId": "4f6d74db-d56d-4e23-de1a-87b8ed6e83bc"
      },
      "outputs": [
        {
          "name": "stdout",
          "output_type": "stream",
          "text": [
            "4\n"
          ]
        }
      ],
      "source": [
        "string = \"Python Programming\"\n",
        "print(string.index(\"o\"))\n"
      ]
    },
    {
      "cell_type": "markdown",
      "metadata": {
        "id": "vEVS3Jl9wE1q"
      },
      "source": [
        "# **Looping Through a String:**\n",
        "\n",
        "Since strings are arrays, we can loop through the characters in a string, with a for loop."
      ]
    },
    {
      "cell_type": "code",
      "execution_count": null,
      "metadata": {
        "id": "A9MFACUOwUcz"
      },
      "outputs": [],
      "source": [
        "for amna in \"hello\":\n",
        "\n",
        "  print(amna)\n",
        "\n",
        "#for x in \"python=\":\n",
        "   #print(2)"
      ]
    },
    {
      "cell_type": "markdown",
      "metadata": {
        "id": "DfBM0tzBwmcv"
      },
      "source": [
        "#**Membership Operators**\n",
        "\n",
        "Membership operators are used to test if a sequence is presented in an object\n",
        "\n",
        "`in` Returns \"True\" if a sequence with the specified value is present in the object\n",
        "\n",
        "`not in` Returns \"True\" if a sequence with the specified value is not present in the object"
      ]
    },
    {
      "cell_type": "code",
      "execution_count": null,
      "metadata": {
        "colab": {
          "base_uri": "https://localhost:8080/"
        },
        "id": "_jFVH4WAxhGP",
        "outputId": "2b063e98-4683-4a18-dc93-e305bc65aeb2"
      },
      "outputs": [
        {
          "name": "stdout",
          "output_type": "stream",
          "text": [
            "True\n",
            "True\n"
          ]
        }
      ],
      "source": [
        "x = \"How to use membership operator\"\n",
        "print(\"on\"  in x)\n",
        "\n",
        "print(\"Yes\" not in \"Python\")"
      ]
    },
    {
      "cell_type": "markdown",
      "metadata": {
        "id": "qeQ1LVmHxgO9"
      },
      "source": [
        "# **Slicing**\n",
        "You can return a range of characters by using the slice syntax.\n",
        "\n",
        "Specify the start index and the end index, separated by a colon, to return a part of the string.\n",
        "There are three values separated by a colon(:) that can be used in slicing. And all of them are optional.\n",
        "\n",
        "Syntax= string[start:end:step]"
      ]
    },
    {
      "cell_type": "code",
      "execution_count": null,
      "metadata": {
        "colab": {
          "base_uri": "https://localhost:8080/"
        },
        "id": "7I7mL8NNye5W",
        "outputId": "2d0555ee-79b3-4004-945f-e9614975495d"
      },
      "outputs": [
        {
          "name": "stdout",
          "output_type": "stream",
          "text": [
            "Hello\n",
            "ll\n"
          ]
        }
      ],
      "source": [
        "x = \"Hello\"\n",
        "print(x[:])\n",
        "print(x[2:-1:1])\n"
      ]
    },
    {
      "cell_type": "markdown",
      "metadata": {
        "id": "qeQ2Y-jz0iR5"
      },
      "source": [
        "# Negative Indexing\n",
        "Use negative indexes to start the slice from the end of the string:"
      ]
    },
    {
      "cell_type": "code",
      "execution_count": null,
      "metadata": {
        "colab": {
          "base_uri": "https://localhost:8080/"
        },
        "id": "9VSVNbpW0oig",
        "outputId": "2fa4c3e2-f539-4726-f8de-b437d897a190"
      },
      "outputs": [
        {
          "name": "stdout",
          "output_type": "stream",
          "text": [
            "o\n",
            "Hell\n",
            "H\n"
          ]
        }
      ],
      "source": [
        "x = \"Hello\"\n",
        "#print(x[-6])\n",
        "#print(x[-1])\n",
        "#print(x[:-1:])\n",
        "print(x[::-1])"
      ]
    },
    {
      "cell_type": "markdown",
      "metadata": {
        "id": "v7QF7_Wy1Esi"
      },
      "source": [
        "# **String Methods:**\n",
        "Python has a set of built-in methods that you can use on strings.\n",
        "\n",
        "**Upper Case**\n",
        "\n",
        "The upper() method returns the string in upper case:\n",
        "\n",
        "**Lower Case**\n",
        "\n",
        "The lower() method returns the string in lower case:\n",
        "\n",
        "**Capitalize**\n",
        "\n",
        "The capitalize() method returns the string with first character capitalized:\n",
        "\n",
        "\n",
        "**Sorted**\n",
        "\n",
        "The sorted function is used to sort the string alphabatically.\n",
        "\n",
        "**Join**\n",
        "\n",
        "join() is used to join characters of a list in the form of string separated by the specified character.\n"
      ]
    },
    {
      "cell_type": "code",
      "execution_count": null,
      "metadata": {
        "colab": {
          "base_uri": "https://localhost:8080/"
        },
        "id": "dLOcpgp11wyG",
        "outputId": "d77918f7-d606-4143-a1e0-30dabcdc5292"
      },
      "outputs": [
        {
          "name": "stdout",
          "output_type": "stream",
          "text": [
            "Python\n",
            "PROGRAMMING\n"
          ]
        }
      ],
      "source": [
        "x = \"pYtHon\"\n",
        "print(x.capitalize())\n",
        "string1 = \"ProgrAmmiNg\"\n",
        "print(string1.upper())\n",
        "# print(string.capitalize())\n",
        "#print(x)\n",
        "#print(y)"
      ]
    },
    {
      "cell_type": "code",
      "execution_count": null,
      "metadata": {
        "colab": {
          "base_uri": "https://localhost:8080/"
        },
        "id": "E_aHT2aXONlN",
        "outputId": "b2511148-5a0d-42cf-eb38-997f7ae91f03"
      },
      "outputs": [
        {
          "name": "stdout",
          "output_type": "stream",
          "text": [
            "['#', '$', '%', '1', '3', '3', '@', '^', 'a', 'b', 'c', 'd', 'e', 'f', 'g', 'h', 'i', 'j', 'k', 'l', 'm', 'n', 'o', 'p', 'q', 'r', 's', 't', 'u', 'v', 'w', 'x', 'y', 'z']\n"
          ]
        }
      ],
      "source": [
        "x = \"zyxwvutsrq@#13$%^3ponmlkjihgfedcba\"\n",
        "print(sorted(x))\n"
      ]
    },
    {
      "cell_type": "code",
      "execution_count": null,
      "metadata": {
        "colab": {
          "base_uri": "https://localhost:8080/"
        },
        "id": "pmRHWJnnPbr7",
        "outputId": "c8bee3e3-77d5-4856-f43c-0d87e863974c"
      },
      "outputs": [
        {
          "name": "stdout",
          "output_type": "stream",
          "text": [
            "p,y,t,h,o,n\n",
            "h n o p t y\n",
            "[' ', ' ', '5', '6', '7', '?', 'W', 'a', 'e', 'h', 'o', 'o', 'r', 'u', 'y']\n"
          ]
        }
      ],
      "source": [
        "string = \"python\"\n",
        "#print(sorted(string))   #returns string in the form of a sorted list\n",
        "x = \",\".join(string)\n",
        "print(x)\n",
        "print(\" \".join(sorted(string)))\n",
        "\n",
        "string1 = \"Who are you?567\"\n",
        "print(sorted(string1))"
      ]
    },
    {
      "cell_type": "markdown",
      "metadata": {
        "id": "2jPDQqnQS25D"
      },
      "source": [
        "**Count**\n",
        "\n",
        "The count method is used to count the occurences of a specific character or substring in a string.\n",
        "\n",
        "**endswith**\n",
        "\n",
        "It checks whether a string ends with a specified character.\n",
        "\n",
        "**startswith**\n",
        "\n",
        "It checks whether a string starts with a specified character.\n",
        "\n",
        "**endswith**\n",
        "\n",
        "It checks whether a string ends with a specified character.\n",
        "\n",
        "**find**\n",
        "\n",
        "It checks at what position a specified character is present."
      ]
    },
    {
      "cell_type": "code",
      "execution_count": null,
      "metadata": {
        "colab": {
          "base_uri": "https://localhost:8080/"
        },
        "id": "oGF20sECSTkz",
        "outputId": "08baf32d-c780-47cc-f5cd-9c6408b47dc2"
      },
      "outputs": [
        {
          "name": "stdout",
          "output_type": "stream",
          "text": [
            "3\n",
            "False\n",
            "False\n",
            "-1\n"
          ]
        }
      ],
      "source": [
        "a = \"Hello, World!\"\n",
        "print(a.count(\"l\"))\n",
        "b = \"lHello\"\n",
        "print(b.endswith(\"lio\"))\n",
        "print(b.startswith(\"h\"))\n",
        "print(b.find(\"n\"))"
      ]
    },
    {
      "cell_type": "markdown",
      "metadata": {
        "id": "ivv0Xwwpg5A1"
      },
      "source": [
        "**Escape Character:**\n",
        "\n",
        "To insert characters that are illegal in a string, use an escape character.\n",
        "\n",
        "An escape character is a backslash \\ followed by the character you want to insert.\n",
        "\n",
        "An example of an illegal character is a double quote inside a string that is surrounded by double quotes:"
      ]
    },
    {
      "cell_type": "code",
      "execution_count": null,
      "metadata": {
        "colab": {
          "base_uri": "https://localhost:8080/"
        },
        "id": "-vbivfHjhQ5z",
        "outputId": "0faff423-0738-44ce-e7f1-a23303965ec0"
      },
      "outputs": [
        {
          "name": "stdout",
          "output_type": "stream",
          "text": [
            "Do you know how to use \t illegal 'charcters' \n",
            " in python?\n"
          ]
        }
      ],
      "source": [
        "string = 'Do you know how to use \\t illegal \\'charcters\\' \\n in python?'\n",
        "print(string)"
      ]
    },
    {
      "cell_type": "markdown",
      "metadata": {
        "id": "ga6F5BGohr3R"
      },
      "source": [
        "**Formatted String: (f-string)**\n",
        "\n",
        "The format() method formats the specified value(s) and insert them inside the string's placeholder. The placeholder is defined using curly brackets: {}."
      ]
    },
    {
      "cell_type": "code",
      "execution_count": null,
      "metadata": {
        "colab": {
          "base_uri": "https://localhost:8080/"
        },
        "id": "MIueCIa1iAyO",
        "outputId": "e66c0dba-8b78-408d-cdc9-f9a0a0a7900c"
      },
      "outputs": [
        {
          "name": "stdout",
          "output_type": "stream",
          "text": [
            "I don't know programming. I've no idea about it.\n",
            "I don't know swimming. I've no idea about it.\n",
            "I don't know False. I've no idea about it.\n",
            "My name is Ali\n"
          ]
        }
      ],
      "source": [
        "#print(\"Hi, {}\".format(\"Ahmad\"))\n",
        "x = \"I don't know {}. I've no idea about it.\"\n",
        "print(x.format(\"programming\"))\n",
        "print(x.format(\"swimming\"))\n",
        "print(x.format(False))\n",
        "\n",
        "\n",
        "a = \"Ali\"\n",
        "print(f\"My name is {a}\")\n"
      ]
    },
    {
      "cell_type": "markdown",
      "metadata": {
        "id": "kX1XtKHd2Evf"
      },
      "source": [
        "# **Remove Whitespaces:**\n",
        "Whitespace is the space before and/or after the actual text, and very often you want to remove this space.\n",
        "\n",
        "The strip() method removes any whitespace from the beginning or the end:"
      ]
    },
    {
      "cell_type": "code",
      "execution_count": null,
      "metadata": {
        "colab": {
          "base_uri": "https://localhost:8080/"
        },
        "id": "Jvkixjx6Park",
        "outputId": "61a8a710-1b26-4542-da1a-3935d3317166"
      },
      "outputs": [
        {
          "name": "stdout",
          "output_type": "stream",
          "text": [
            "Hello\n",
            "He\n"
          ]
        }
      ],
      "source": [
        "x = \"Hello\"\n",
        "print(x)\n",
        "print(x.strip(\"llo\"))"
      ]
    },
    {
      "cell_type": "code",
      "execution_count": null,
      "metadata": {
        "colab": {
          "base_uri": "https://localhost:8080/"
        },
        "id": "L0kONM4n2R8u",
        "outputId": "e2540710-148a-40a9-a5de-28bc66f8aa27"
      },
      "outputs": [
        {
          "name": "stdout",
          "output_type": "stream",
          "text": [
            "Hello World!\n",
            "llo World!\n",
            " World!\n",
            "Hello \n"
          ]
        }
      ],
      "source": [
        "x = \"Hello World!\"\n",
        "print(x)\n",
        "print(x.strip(\"He\"))\n",
        "print(x.strip(\"Hello\")) #l for left  strip()\n",
        "print(x.strip(\"Wrold!\"))  #(r for right)\n"
      ]
    },
    {
      "cell_type": "markdown",
      "metadata": {
        "id": "VydXo9Hv3M_J"
      },
      "source": [
        "# **Replace String:**\n",
        "The replace() method replaces a string with another string:"
      ]
    },
    {
      "cell_type": "code",
      "execution_count": null,
      "metadata": {
        "colab": {
          "base_uri": "https://localhost:8080/"
        },
        "id": "G7BQYSGk3ZWX",
        "outputId": "66704f08-e310-4e81-d7f4-2f97338d9417"
      },
      "outputs": [
        {
          "name": "stdout",
          "output_type": "stream",
          "text": [
            "Hy world\n"
          ]
        }
      ],
      "source": [
        "string = \" Hello there!\"\n",
        "string4 = \"Hello world\"\n",
        "print(string4.replace(\"Hello\", \"Hy\"))"
      ]
    },
    {
      "cell_type": "markdown",
      "metadata": {
        "id": "IPlOgeqd3yAF"
      },
      "source": [
        "# **Split String:**\n",
        "The split() method returns a list where the text between the specified separator becomes the list items."
      ]
    },
    {
      "cell_type": "code",
      "execution_count": null,
      "metadata": {
        "colab": {
          "base_uri": "https://localhost:8080/"
        },
        "id": "Wn8yjstN37Li",
        "outputId": "4e5ca719-8683-44cb-9987-d27e7f4b5d86"
      },
      "outputs": [
        {
          "name": "stdout",
          "output_type": "stream",
          "text": [
            "['We can uses ', ' method to change our string into a ', '  list.']\n"
          ]
        }
      ],
      "source": [
        "message = \"We can uses split method to change our string into a split  list.\"\n",
        "# print(\" \".join(message.split(\"s\")))\n",
        "print(message.split(\"split\"))\n",
        "# print((message.split(\"pakistan\")))"
      ]
    },
    {
      "cell_type": "markdown",
      "metadata": {
        "id": "E90ReUJabk5Y"
      },
      "source": [
        "**Reverse of a string:**\n",
        "\n",
        "reversed() function is used to get the reverse of a specified string."
      ]
    },
    {
      "cell_type": "code",
      "execution_count": null,
      "metadata": {
        "id": "K0y8kOAnbzs0"
      },
      "outputs": [],
      "source": [
        "a = \"Hello there!\"\n",
        "#print(reversed(a))    #return type memory location\n",
        "#print(\"\".join(reversed(a)))\n"
      ]
    },
    {
      "cell_type": "code",
      "execution_count": null,
      "metadata": {
        "colab": {
          "base_uri": "https://localhost:8080/"
        },
        "id": "XNy6zRqEL4xU",
        "outputId": "fa27c47d-dea0-44a3-b065-70edbf42ad99"
      },
      "outputs": [
        {
          "name": "stdout",
          "output_type": "stream",
          "text": [
            "0121\n"
          ]
        }
      ],
      "source": [
        "x = 1210\n",
        "\n",
        "print(\"\".join(reversed(str(x))))"
      ]
    },
    {
      "cell_type": "code",
      "execution_count": null,
      "metadata": {
        "colab": {
          "base_uri": "https://localhost:8080/"
        },
        "id": "Aparjc6BRRNs",
        "outputId": "6e7c7885-26d4-498b-cf9e-1a0e3cc89c4f"
      },
      "outputs": [
        {
          "name": "stdout",
          "output_type": "stream",
          "text": [
            "nohtyP\n"
          ]
        }
      ],
      "source": [
        "x = 'Python'\n",
        "print(x[::-1])"
      ]
    },
    {
      "cell_type": "markdown",
      "metadata": {
        "id": "-eIKt-flaMcf"
      },
      "source": [
        "# **String:**\n",
        "\n",
        "**Strings are not mutable in Python.** Strings are a immutable data types which means that its value cannot be updated."
      ]
    },
    {
      "cell_type": "code",
      "execution_count": null,
      "metadata": {
        "colab": {
          "base_uri": "https://localhost:8080/",
          "height": 218
        },
        "id": "ZAJyloHbcwhV",
        "outputId": "f2c11fcf-fa84-4fc0-d2b2-9a63e27f20b3"
      },
      "outputs": [
        {
          "ename": "TypeError",
          "evalue": "ignored",
          "output_type": "error",
          "traceback": [
            "\u001b[0;31m---------------------------------------------------------------------------\u001b[0m",
            "\u001b[0;31mTypeError\u001b[0m                                 Traceback (most recent call last)",
            "\u001b[0;32m<ipython-input-1-3542249933b5>\u001b[0m in \u001b[0;36m<cell line: 2>\u001b[0;34m()\u001b[0m\n\u001b[1;32m      1\u001b[0m \u001b[0mstring\u001b[0m \u001b[0;34m=\u001b[0m \u001b[0;34m\"Strings are immutable\"\u001b[0m\u001b[0;34m\u001b[0m\u001b[0;34m\u001b[0m\u001b[0m\n\u001b[0;32m----> 2\u001b[0;31m \u001b[0mstring\u001b[0m\u001b[0;34m[\u001b[0m\u001b[0;36m0\u001b[0m\u001b[0;34m]\u001b[0m \u001b[0;34m=\u001b[0m \u001b[0;34m\"i\"\u001b[0m\u001b[0;34m\u001b[0m\u001b[0;34m\u001b[0m\u001b[0m\n\u001b[0m\u001b[1;32m      3\u001b[0m \u001b[0mprint\u001b[0m\u001b[0;34m(\u001b[0m\u001b[0mstring\u001b[0m\u001b[0;34m)\u001b[0m\u001b[0;34m\u001b[0m\u001b[0;34m\u001b[0m\u001b[0m\n",
            "\u001b[0;31mTypeError\u001b[0m: 'str' object does not support item assignment"
          ]
        }
      ],
      "source": [
        "string = \"Strings are immutable\"\n",
        "string[0] = \"i\"\n",
        "print(string)"
      ]
    },
    {
      "cell_type": "markdown",
      "metadata": {
        "id": "S7DnF0LCDRzg"
      },
      "source": [
        "#**List**\n",
        "\n",
        "Lists are used to store multiple items in a single variable.\n",
        "\n",
        "List items are ordered, changable, allow duplicate values.\n",
        "\n",
        "List items can be of any data type."
      ]
    },
    {
      "cell_type": "code",
      "execution_count": null,
      "metadata": {
        "id": "R6VMwO-ZME2O"
      },
      "outputs": [],
      "source": [
        "list1 = [\"cool\", 5, \" \" ,\"table\", 4.3, True, \"cool\"]\n",
        "print(list1)\n",
        "print(type(list1))\n"
      ]
    },
    {
      "cell_type": "markdown",
      "metadata": {
        "id": "aFQ8SJorMzWI"
      },
      "source": [
        "#**List Length**\n",
        "\n",
        "Use `len()` function to determine how many items a list has."
      ]
    },
    {
      "cell_type": "code",
      "execution_count": null,
      "metadata": {
        "id": "bSYKUbHQNDSk"
      },
      "outputs": [],
      "source": [
        "print(len(list1))   #len()"
      ]
    },
    {
      "cell_type": "markdown",
      "metadata": {
        "id": "C2x8_VJ4Qc_Z"
      },
      "source": [
        "#**Access List Items**\n",
        "\n",
        "Since list items are indexed, they can be accessed by referring to their index number.\n",
        "\n",
        "We can also use negative indexing to refer to a list item.\n",
        "\n",
        "We can also specify a range to tell where to start and where to end. In that case, the output will be a new list having specified items.\n",
        "\n",
        "We can also specify negative indexes if we want to start the search from the end of the list\n"
      ]
    },
    {
      "cell_type": "code",
      "execution_count": null,
      "metadata": {
        "id": "U8Qm-HBHPngu"
      },
      "outputs": [],
      "source": [
        "list1 = [\"cool\", 5, \"table\", 4.3, True]\n",
        "print(list1[3])\n",
        "\n",
        "# using -ve index\n",
        "# print(list1[-1])\n",
        "\n",
        "#range of items\n",
        "print(list1[0::-1])\n",
        "\n",
        "# #range of -ve indexes\n",
        "#print(list1[-2:-4:1])"
      ]
    },
    {
      "cell_type": "markdown",
      "metadata": {
        "id": "oeocQX5HRS-3"
      },
      "source": [
        "#**Membership Operators in List**\n",
        "\n",
        "To check if the specified item is present in a list or not we can use membership operators i'e `in` and `not in`"
      ]
    },
    {
      "cell_type": "code",
      "execution_count": null,
      "metadata": {
        "id": "bWr9BQXiRid6"
      },
      "outputs": [],
      "source": [
        "list1 = [\"cool\", 5, \"table\", 4.3, True]\n",
        "print(5 in list1)\n",
        "print(5 not in list1)"
      ]
    },
    {
      "cell_type": "markdown",
      "metadata": {
        "id": "7JafxTIBUxar"
      },
      "source": [
        "#**Change List Items**\n",
        "\n",
        "To change the value of a specific item, refer to the index number.\n",
        "\n",
        "To change the value of items within a specific range, define a list with the new values, and refer to the range of index numbers where you want to insert the new values."
      ]
    },
    {
      "cell_type": "code",
      "execution_count": null,
      "metadata": {
        "id": "nMH3SZfBVrZD"
      },
      "outputs": [],
      "source": [
        "list2 = [\"summer\", \"winter\", \"spring\", \"autumn\"]\n",
        "#list2[1] = \"go!\"\n",
        "#print(list2)\n",
        "\n",
        "list2[0:3] = [\"list\"]\n",
        "print(list2)"
      ]
    },
    {
      "cell_type": "markdown",
      "metadata": {
        "id": "jtIMg82dXmuk"
      },
      "source": [
        "#**Add List Items**\n",
        "\n",
        "We can add items in the list using:\n",
        "\n",
        "\n",
        "*   `append()` method\n",
        "*   `insert()` method\n",
        "*   `extend()` method\n",
        "\n"
      ]
    },
    {
      "cell_type": "code",
      "execution_count": null,
      "metadata": {
        "id": "qMDrj-jnYFPn"
      },
      "outputs": [],
      "source": [
        "list1 = [\"cool\", 5, \"table\", 4.3, True]\n",
        "list2 = [\"summer\", \"winter\", \"spring\", \"autumn\"]\n",
        "\n",
        "#To add an item to the end of the list, use the append() method\n",
        "# list2.append([\"rainy season\", \"Python\"])\n",
        "# print(list2)\n",
        "\n",
        "#To insert a list item at a specified index, use the insert() method\n",
        "#list1.insert(3, \"Add in it\")\n",
        "#print(list1)\n",
        "\n",
        "# #To append elements from another list to the current list, use the extend() method.\n",
        "# list3 = [1, 2, 3, 4, 5]\n",
        "list2.extend([\"rainy season\", \"Python\", 90 , \"abc\"])\n",
        "print(list2)"
      ]
    },
    {
      "cell_type": "code",
      "execution_count": null,
      "metadata": {
        "id": "vG1L-C87gJT5"
      },
      "outputs": [],
      "source": [
        "list2 = [\"summer\", \"winter\", \"spring\", \"autumn\"]\n",
        "list1 = [\"cool\", 5, \"table\", 4.3, True]\n",
        "list1.extend(list2)\n",
        "print(list1)"
      ]
    },
    {
      "cell_type": "markdown",
      "metadata": {
        "id": "E6EQM0yeZ7J5"
      },
      "source": [
        "#**Remove List Items**\n",
        "\n",
        "We can remove items from list using:\n",
        "\n",
        "* `remove()` method\n",
        "\n",
        "* `pop()` method\n",
        "\n",
        "* `del` keyword\n",
        "\n",
        "* `clear()` method"
      ]
    },
    {
      "cell_type": "code",
      "execution_count": null,
      "metadata": {
        "colab": {
          "base_uri": "https://localhost:8080/"
        },
        "id": "EwSKGGpmaYyI",
        "outputId": "74260062-40b4-4811-eb74-5ce46046e092"
      },
      "outputs": [
        {
          "name": "stdout",
          "output_type": "stream",
          "text": [
            "['winter', 'spring', 'autumn', 'sublist']\n",
            "['winter', 'spring', 'autumn']\n",
            "[]\n"
          ]
        }
      ],
      "source": [
        "#The remove() method removes the specified item\n",
        "list2 = [\"summer\", \"winter\", \"spring\", \"autumn\", \"sublist\"]\n",
        "list2.remove(\"summer\")\n",
        "print(list2)\n",
        "\n",
        "#The pop() method removes the specified index.\n",
        "#print(list2.pop(0))\n",
        "#list2.pop(-2) #will remove value of index -1\n",
        "#print(list2)\n",
        "\n",
        "# The del() keyword\n",
        "del list2[3]\n",
        "print(list2)\n",
        "\n",
        "#del list2\n",
        "#print(list2)\n",
        "\n",
        "# #The clear() method empties the list. The list still remains, but it has no content\n",
        "list2.clear()\n",
        "print(list2)"
      ]
    },
    {
      "cell_type": "code",
      "execution_count": null,
      "metadata": {
        "id": "VEH_mzl_g6aB"
      },
      "outputs": [],
      "source": [
        "list2 = [\"summer\", \"winter\", \"spring\", \"autumn\"]\n",
        "del list2\n",
        "print(list2)"
      ]
    },
    {
      "cell_type": "markdown",
      "metadata": {
        "id": "dYVoYFNic9bj"
      },
      "source": [
        "#**Sort List**\n",
        "\n",
        "List objects have a `sort()` method that will sort the list alphanumerically, ascending, by default.\n",
        "\n",
        "To sort descending, use the keyword argument `reverse = True`\n",
        "\n",
        "By default the `sort()` method is case sensitive, resulting in all capital letters being sorted before lower case letters.\n",
        "\n",
        "If you want a case-insensitive sort function, use str.lower as a key function."
      ]
    },
    {
      "cell_type": "code",
      "execution_count": null,
      "metadata": {
        "id": "2QGZBUj5ddyG"
      },
      "outputs": [],
      "source": [
        "list2 = [\"summer\", \"winter\", \"Spring\", \"autumn\", 7, 9]\n",
        "#list2.sort()\n",
        "#print(list2)\n",
        "\n",
        "#list2.sort(reverse = True)\n",
        "#print(list2)\n",
        "numbers = [ 5, 8, 12, 8, 3]\n",
        "#numbers.sort()\n",
        "#print(numbers)\n",
        "\n",
        "list4 = [\"apple\", \"8\", \"Winter\", \"6.0\"]\n",
        "#list4.sort()\n",
        "#print(list4)\n",
        "\n",
        "list5 = [\"apple\", \"Banana\", \"orange\", \"Apricot\", 2]\n",
        "#list5.sort(key = str.upper)\n",
        "#print(list5)\n",
        "\n",
        "list5.reverse()\n",
        "print(list5)"
      ]
    },
    {
      "cell_type": "code",
      "execution_count": null,
      "metadata": {
        "id": "0CyT6DRopyj7"
      },
      "outputs": [],
      "source": [
        "list2 = [\"summer\", \"winter\", \"Spring\", \"autumn\", \"7\", \"9\"]\n",
        "list2.sort(key=str.lower)\n",
        "print(list2)"
      ]
    },
    {
      "cell_type": "markdown",
      "metadata": {
        "id": "kbcQTQ7VwXJQ"
      },
      "source": [
        "#**Copy List**\n",
        "\n",
        "You cannot copy a list simply by typing `list2 = list1`, because: list2 will only be a reference to list1, and changes made in list1 will automatically also be made in list2.\n",
        "\n",
        "There are ways to make a copy, one way is to use the built-in List method `copy()`.\n",
        "\n",
        "Another way to make a copy is to use the built-in method `list()`."
      ]
    },
    {
      "cell_type": "code",
      "execution_count": null,
      "metadata": {
        "colab": {
          "base_uri": "https://localhost:8080/"
        },
        "id": "kbzW7Liv1xrB",
        "outputId": "6d2b4a32-a00e-4083-9408-188450b3579f"
      },
      "outputs": [
        {
          "name": "stdout",
          "output_type": "stream",
          "text": [
            "['apple', 'Banana', 'orange', 'Apricot', 'Hello']\n"
          ]
        }
      ],
      "source": [
        "list5 = [\"apple\", \"Banana\", \"orange\", \"Apricot\"]\n",
        "list6 = list5\n",
        "#print(list6)\n",
        "#print(id(list5))\n",
        "#print(id(list6))\n",
        "list5.append(\"Hello\")\n",
        "print(list5)\n",
        "#print(list6)\n",
        "copy1 = list5.copy()\n",
        "#print(copy1)\n",
        "#print(id(list5))\n",
        "#print(id(copy1))\n",
        "\n",
        "copy2 = list(list5)\n",
        "#print(copy2)\n",
        "#print(id(list5))\n",
        "#print(id(copy2))"
      ]
    },
    {
      "cell_type": "code",
      "execution_count": null,
      "metadata": {
        "id": "qt-bixmOiGHV"
      },
      "outputs": [],
      "source": [
        "list2 = [\"summer\", \"winter\", \"spring\", \"autumn\"]\n",
        "copied = list2.copy()\n",
        "print(copied)"
      ]
    },
    {
      "cell_type": "markdown",
      "metadata": {
        "id": "IIt-RJk42VVD"
      },
      "source": [
        "#**Join List**\n",
        "\n",
        "There are several ways to join, or concatenate, two or more lists in Python.\n",
        "\n",
        "One of the easiest ways are by using the `+` operator.\n",
        "\n",
        "Another way to join two lists is by appending all the items from list2 into list1, one by one\n",
        "\n",
        "Or you can use the `extend()` method, which purpose is to add elements from one list to another list"
      ]
    },
    {
      "cell_type": "code",
      "execution_count": null,
      "metadata": {
        "colab": {
          "base_uri": "https://localhost:8080/"
        },
        "id": "KBNGoWZU6w92",
        "outputId": "4ece395b-553f-4798-f0f3-44ee49719387"
      },
      "outputs": [
        {
          "name": "stdout",
          "output_type": "stream",
          "text": [
            "['apple', '5', 'Winter', '4.0', 'apple', '5', 'Winter', '4.0']\n"
          ]
        }
      ],
      "source": [
        "list5 = [\"apple\", \"Banana\", \"orange\", \"Apricot\"]\n",
        "list4 = [\"apple\", \"5\", \"Winter\", \"4.0\"]\n",
        "list4.extend(list4)\n",
        "print(list5)"
      ]
    },
    {
      "cell_type": "code",
      "execution_count": null,
      "metadata": {
        "colab": {
          "base_uri": "https://localhost:8080/"
        },
        "id": "m058aI0Y3QTx",
        "outputId": "e05ad5ee-36e6-4dc6-a62e-1f0d00c0b2a6"
      },
      "outputs": [
        {
          "name": "stdout",
          "output_type": "stream",
          "text": [
            "['apple', 'Banana', 'orange', 'Apricot']\n"
          ]
        }
      ],
      "source": [
        "#Concatenating through + operator\n",
        "list5 = [\"apple\", \"Banana\", \"orange\", \"Apricot\"]\n",
        "list4 = [\"apple\", \"5\", \"Winter\", \"4.0\"]\n",
        "#print(list4 + list5)\n",
        "\n",
        "#Using extend() method\n",
        "list4.extend(list4)\n",
        "print(list5)\n",
        "\n",
        "#appending each item using for loop\n",
        "#for i in list4:\n",
        "  #list5.append(i)\n",
        "#print(list5)"
      ]
    },
    {
      "cell_type": "code",
      "execution_count": null,
      "metadata": {
        "colab": {
          "base_uri": "https://localhost:8080/"
        },
        "id": "Da0Egd4OibqY",
        "outputId": "03e618cc-ba8c-40c8-c007-7974b3cce79e"
      },
      "outputs": [
        {
          "name": "stdout",
          "output_type": "stream",
          "text": [
            "['summer', 'winter', 'spring', 'autumn', 7, 66, 4]\n"
          ]
        }
      ],
      "source": [
        "list2 = [\"summer\", \"winter\", \"spring\", \"autumn\"]\n",
        "list3 = [7, 66, 4]\n",
        "print(list2 + list3)"
      ]
    },
    {
      "cell_type": "markdown",
      "metadata": {
        "id": "nB4-K7Vy4Zee"
      },
      "source": [
        "![Screenshot (365).png](data:image/png;base64,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)"
      ]
    },
    {
      "cell_type": "code",
      "execution_count": null,
      "metadata": {
        "id": "54tAbibYyrvH"
      },
      "outputs": [],
      "source": [
        "list4 = [\"apple\", \"5\", \"Winter\", \"4.0\", \"apple\"]\n",
        "print(list4.count(\"apple\"))\n",
        "print(list4.index(\"apple\"))"
      ]
    },
    {
      "cell_type": "code",
      "execution_count": null,
      "metadata": {
        "id": "eF3aIce4gpPF"
      },
      "outputs": [],
      "source": [
        "string1 = \"Python Programming\"\n",
        "# print(len(string1))\n",
        "# print(string1[-18])\n",
        "print(string1[-11:-8:1])\n"
      ]
    },
    {
      "cell_type": "code",
      "execution_count": null,
      "metadata": {
        "id": "hA-M_Dh6lp66"
      },
      "outputs": [],
      "source": [
        "# Question for today\n",
        "my_list = [12, 35, 5, 0, 87, 99]\n",
        "# Find the modulus of number at index 1 with 5.\n",
        "print(my_list[1] % my_list[5])"
      ]
    },
    {
      "cell_type": "code",
      "execution_count": null,
      "metadata": {
        "id": "t6vHaMn-fnDH"
      },
      "outputs": [],
      "source": [
        "# Problem no. 2\n",
        "set1 = {\"Lahore\", \"Faisalabad\", 5, True}\n",
        "set2 = {5, 0, True}\n",
        "# find whether set2 is a subset of set1 or not.\n",
        "# Hint: use set method for this\n",
        "print(set2.issubset(set1))"
      ]
    },
    {
      "cell_type": "code",
      "execution_count": null,
      "metadata": {
        "id": "omvmp4o4j9vs"
      },
      "outputs": [],
      "source": [
        "string = \"\"\n",
        "print(type(string))"
      ]
    },
    {
      "cell_type": "markdown",
      "metadata": {
        "id": "AucAJEExV0Eu"
      },
      "source": [
        "# **Nested List:**\n",
        "If there is a sublist within a list, it is known as nested list. We can access the elements of nested list by using its indexes."
      ]
    },
    {
      "cell_type": "code",
      "execution_count": null,
      "metadata": {
        "colab": {
          "base_uri": "https://localhost:8080/"
        },
        "id": "EjlBOp7PWFg1",
        "outputId": "2139fc30-6b8e-4e48-ba5d-f72d94b17933"
      },
      "outputs": [
        {
          "name": "stdout",
          "output_type": "stream",
          "text": [
            "Ali\n"
          ]
        }
      ],
      "source": [
        "#Nested List\n",
        "student = [\"Name\" , \"Ali\" , \"Marks\" , [54,89,76,34] , [\"Pass\", \"Fail\"]]\n",
        "print(student[1])\n"
      ]
    },
    {
      "cell_type": "markdown",
      "metadata": {
        "id": "d_WdtAHN8_5H"
      },
      "source": [
        "#**Tuple**\n",
        "\n",
        "Tuples are used to store multiple items in a single variable.\n",
        "\n",
        "A tuple is a collection which is ordered and unchangeable.\n",
        "\n",
        "Tuples are written with round brackets."
      ]
    },
    {
      "cell_type": "code",
      "execution_count": null,
      "metadata": {
        "colab": {
          "base_uri": "https://localhost:8080/"
        },
        "id": "aTGIr2zE9Q76",
        "outputId": "6d0bc11d-6afb-480a-ce03-cfd1d07a6642"
      },
      "outputs": [
        {
          "name": "stdout",
          "output_type": "stream",
          "text": [
            "<class 'tuple'>\n",
            "5\n"
          ]
        }
      ],
      "source": [
        "T1 = (\"Pakistan\", \"Nepal\", 5, 8.9, \"Sudan\")\n",
        "#print(T1)\n",
        "#print(type(T1))\n",
        "\n",
        "T2 = (\"India\",)\n",
        "print(type(T2))\n",
        "\n",
        "print(len(T1))"
      ]
    },
    {
      "cell_type": "markdown",
      "metadata": {
        "id": "maf6zuUB-jPK"
      },
      "source": [
        "#**Accessing Tuple Elements**\n",
        "\n",
        "Items in the tuples can be accessed by entering the index number inside square bracket.\n",
        "\n",
        "The index can be a positive index, a negative index or a range of the indices."
      ]
    },
    {
      "cell_type": "code",
      "execution_count": null,
      "metadata": {
        "colab": {
          "base_uri": "https://localhost:8080/"
        },
        "id": "Sj2Qe2h5-8Nh",
        "outputId": "5ec36c7a-0268-4291-8109-e7e783916d30"
      },
      "outputs": [
        {
          "name": "stdout",
          "output_type": "stream",
          "text": [
            "Korea\n",
            "('Korea', 55, 'Sudan')\n"
          ]
        }
      ],
      "source": [
        "T1 = (\"Pakistan\", \"Nepal\", 5, 8.9, \"Sudan\", 55, \"Korea\", \"09\")\n",
        "print(T1[-2])\n",
        "\n",
        "print(T1[-2:-5:-1])"
      ]
    },
    {
      "cell_type": "markdown",
      "metadata": {
        "id": "YCW0Yuo_eX5q"
      },
      "source": [
        "#**Membership Operator in Tuple**\n",
        "\n",
        "To determine if a specified item is present in a tuple use the `in` keyword:"
      ]
    },
    {
      "cell_type": "code",
      "execution_count": null,
      "metadata": {
        "colab": {
          "base_uri": "https://localhost:8080/"
        },
        "id": "01B7WuQPehqD",
        "outputId": "02944473-1684-4509-89b5-124833e5ba7e"
      },
      "outputs": [
        {
          "name": "stdout",
          "output_type": "stream",
          "text": [
            "True\n"
          ]
        }
      ],
      "source": [
        "T1 = (\"Pakistan\", \"Nepal\", 5, 8.9, \"Sudan\", 55, \"Korea\", \"09\")\n",
        "print(\"Pakistan\" in T1)"
      ]
    },
    {
      "cell_type": "markdown",
      "metadata": {
        "id": "fnslHljGfTCN"
      },
      "source": [
        "#**Update Tuples**\n",
        "\n",
        "Tuples are immutable. You can't add or remove items in it. However, there are some hacks to do that."
      ]
    },
    {
      "cell_type": "code",
      "execution_count": null,
      "metadata": {
        "colab": {
          "base_uri": "https://localhost:8080/"
        },
        "id": "5DjSBGlWfe6Y",
        "outputId": "dff2c940-5411-485c-92e8-d3d3bcd48c71"
      },
      "outputs": [
        {
          "name": "stdout",
          "output_type": "stream",
          "text": [
            "('Pakistan', 'Indonesia', 5, 8.9, 'Sudan', 55, 'Korea', '09')\n"
          ]
        }
      ],
      "source": [
        "# Method 1 to add items in a tuple\n",
        "T1 = (\"Pakistan\", \"Nepal\", 5, 8.9, \"Sudan\", 55, \"Korea\", \"09\")\n",
        "x = list(T1)\n",
        "#x[1] = \"Indonesia\"\n",
        "x.append(\"Indonesia\")\n",
        "T1 = tuple(x)\n",
        "print(T1)\n",
        "\n",
        "\n"
      ]
    },
    {
      "cell_type": "code",
      "execution_count": null,
      "metadata": {
        "id": "hUjNAx4fhzuq"
      },
      "outputs": [],
      "source": [
        "# Method 2 to add items in a tuple\n",
        "T1 = (\"Pakistan\", \"Nepal\", 5, 8.9, \"Sudan\", 55, \"Korea\", \"09\")\n",
        "T3 = (\"Python\",)\n",
        "T1 += T3   # T1 = T1+T3\n",
        "print(T1)"
      ]
    },
    {
      "cell_type": "code",
      "execution_count": null,
      "metadata": {
        "id": "ka2VdDC8iobh"
      },
      "outputs": [],
      "source": [
        "# To remove items from tuple\n",
        "T1 = (\"Pakistan\", \"Nepal\", 5, 8.9, \"Sudan\", 55, \"Korea\", \"09\")\n",
        "x = list(T1)\n",
        "x.remove(\"Pakistan\")\n",
        "T1 = tuple(x)\n",
        "print(T1)"
      ]
    },
    {
      "cell_type": "code",
      "execution_count": null,
      "metadata": {
        "colab": {
          "base_uri": "https://localhost:8080/"
        },
        "id": "YpK8G2Uhi-N_",
        "outputId": "e0574ec0-211a-4bda-e322-c04b446530f8"
      },
      "outputs": [
        {
          "name": "stdout",
          "output_type": "stream",
          "text": [
            "T2\n"
          ]
        }
      ],
      "source": [
        "# Delete a tuple\n",
        "T2 = (\"Pakistan\", \"Nepal\", 5, 8.9, \"Sudan\", 55, \"Korea\", \"09\")\n",
        "del T2\n",
        "print(T2)"
      ]
    },
    {
      "cell_type": "markdown",
      "metadata": {
        "id": "6FDPHs0ZjhhZ"
      },
      "source": [
        "#**Unpacking a Tuple**\n",
        "\n",
        "When we assign values to a tuple, it is packing the tuple.\n",
        "\n",
        "We can also unpack the tuple and assign these values to different variables."
      ]
    },
    {
      "cell_type": "code",
      "execution_count": null,
      "metadata": {
        "colab": {
          "base_uri": "https://localhost:8080/"
        },
        "id": "pzTxsWL5juZP",
        "outputId": "6a0f9390-834e-4142-af50-720b8b7a53a1"
      },
      "outputs": [
        {
          "name": "stdout",
          "output_type": "stream",
          "text": [
            "Pakistan\n",
            "Nepal\n",
            "[5, 8.9, 5]\n",
            "5.6\n"
          ]
        }
      ],
      "source": [
        "T1 = (\"Pakistan\", \"Nepal\", 5, 8.9,5, 5.6)\n",
        "var1, var2, *var3, var4 = T1\n",
        "print(var1)\n",
        "print(var2)\n",
        "print(var3)\n",
        "print(var4)"
      ]
    },
    {
      "cell_type": "code",
      "execution_count": null,
      "metadata": {
        "id": "xvQgAkS3kKWo"
      },
      "outputs": [],
      "source": [
        "T1 = (\"Pakistan\", \"Nepal\", 5, 8.9, \"Sudan\", 55, \"Korea\", \"09\")\n",
        "var1, var2, var3, var4, *var5 = T1\n",
        "print(var3)\n",
        "print(var4)\n",
        "print(var5)"
      ]
    },
    {
      "cell_type": "markdown",
      "metadata": {
        "id": "UChE8Krek-_H"
      },
      "source": [
        "#**Join Tuples**\n",
        "\n",
        "To join tuples, you can use `+` operator."
      ]
    },
    {
      "cell_type": "code",
      "execution_count": null,
      "metadata": {
        "colab": {
          "base_uri": "https://localhost:8080/"
        },
        "id": "ljmWlS-wlbBM",
        "outputId": "abc27326-3aa1-48d5-9890-579f23fee0c4"
      },
      "outputs": [
        {
          "name": "stdout",
          "output_type": "stream",
          "text": [
            "(3, 5, 7, 'P', 'A', 'K', 2, 4, 6)\n"
          ]
        }
      ],
      "source": [
        "join1 = (3, 5, 7)\n",
        "join2 = (\"P\", \"A\", \"K\")\n",
        "join3 = (2, 4, 6)\n",
        "joined = join1 + join2 + join3\n",
        "#join1 += join2 + join3\n",
        "print(joined)"
      ]
    },
    {
      "cell_type": "markdown",
      "metadata": {
        "id": "ioZLFfJOl1e1"
      },
      "source": [
        "#**Multiply Tuples**\n",
        "\n",
        "If you want to multiply the content of a tuple a given number of times, you can use the `*` operator."
      ]
    },
    {
      "cell_type": "code",
      "execution_count": null,
      "metadata": {
        "colab": {
          "base_uri": "https://localhost:8080/"
        },
        "id": "JVcpwSdQmBbn",
        "outputId": "7f4f7fad-590a-4d86-c4e6-e93f8c7ad2c3"
      },
      "outputs": [
        {
          "name": "stdout",
          "output_type": "stream",
          "text": [
            "('Pakistan', 1, 'Pakistan', 1)\n",
            "(3, 5, 7, 3, 5, 7, 3, 5, 7, 3, 5, 7, 3, 5, 7)\n"
          ]
        }
      ],
      "source": [
        "join2 = (\"Pakistan\",1)\n",
        "print(join2 * 2)\n",
        "\n",
        "join1 = (3, 5, 7)\n",
        "print(join1 * 5)"
      ]
    },
    {
      "cell_type": "code",
      "execution_count": null,
      "metadata": {
        "colab": {
          "base_uri": "https://localhost:8080/"
        },
        "id": "KvsAykGt74ES",
        "outputId": "eab2ab55-a54f-4c16-8b07-8fe2f0e51d34"
      },
      "outputs": [
        {
          "name": "stdout",
          "output_type": "stream",
          "text": [
            "Ali Ali Ali Ali Ali \n"
          ]
        }
      ],
      "source": [
        "a = \"Ali \"\n",
        "print(a*5)"
      ]
    },
    {
      "cell_type": "markdown",
      "metadata": {
        "id": "Ei-SJ3iBmUyr"
      },
      "source": [
        "#**Tuple Methods**\n",
        "\n",
        "Python has two built-in methods for tuple.\n",
        "\n",
        "* `count()` method\n",
        "\n",
        "* `index()` method"
      ]
    },
    {
      "cell_type": "code",
      "execution_count": null,
      "metadata": {
        "colab": {
          "base_uri": "https://localhost:8080/"
        },
        "id": "vdfOOh-zmhc6",
        "outputId": "67f84049-ebb9-44a6-85a7-8b0a2c211ac2"
      },
      "outputs": [
        {
          "name": "stdout",
          "output_type": "stream",
          "text": [
            "1\n",
            "2\n",
            "('Pakistan', 'Nepal', 5, 'Sudan', 55, 'Korea', '09', 'Sudan', 5)\n"
          ]
        }
      ],
      "source": [
        "T1 = (\"Pakistan\", \"Nepal\", 5,  \"Sudan\", 55, \"Korea\", \"09\", \"Sudan\" ,5)\n",
        "\n",
        "# count() method\n",
        "print(T1.count(\"Pakistan\"))\n",
        "\n",
        "#index() method\n",
        "print(T1.index(5))\n",
        "print(T1)"
      ]
    },
    {
      "cell_type": "code",
      "execution_count": null,
      "metadata": {
        "colab": {
          "base_uri": "https://localhost:8080/"
        },
        "id": "kj-iqBjn1C4l",
        "outputId": "e4093146-0de2-4556-c323-82500ff1ca82"
      },
      "outputs": [
        {
          "name": "stdout",
          "output_type": "stream",
          "text": [
            "[2, 3, 40, 67, 500]\n"
          ]
        }
      ],
      "source": [
        "x = [2, 67, 3, 40, 500]\n",
        "x.sort()\n",
        "print(x)"
      ]
    },
    {
      "cell_type": "code",
      "execution_count": null,
      "metadata": {
        "id": "BRWNRJhROT4g"
      },
      "outputs": [],
      "source": [
        "x = [3, \"Apple\", [55, 77], [\"chrrry\", \"banana\"]]\n",
        "x[3][0][2] = [\"e\"]\n",
        "print(x)"
      ]
    },
    {
      "cell_type": "markdown",
      "metadata": {
        "id": "IfebffQtNx4Y"
      },
      "source": [
        "#**Sets**\n",
        "\n",
        "Like lists and tuples, sets are used to store multiple values of different data types in a single variable.\n",
        "\n",
        "Set items are unordered, unindexed, unchangable and don't allow duplicate values.\n",
        "\n",
        "(Set items are unmutable, we can still add and remove items).\n",
        "\n",
        "Sets are written with curly brackets."
      ]
    },
    {
      "cell_type": "code",
      "execution_count": null,
      "metadata": {
        "colab": {
          "base_uri": "https://localhost:8080/"
        },
        "id": "wDppdwzRPyPX",
        "outputId": "28e9a8f5-f337-4e6b-9940-2668ba04c1f8"
      },
      "outputs": [
        {
          "name": "stdout",
          "output_type": "stream",
          "text": [
            "{True, 'Lahore', 'Faisalabad', 5}\n",
            "<class 'set'>\n"
          ]
        }
      ],
      "source": [
        "set1 = [\"Lahore\",5, \"Faisalabad\",True,]\n",
        "set1 = set(set1)\n",
        "print((set1))\n",
        "print(type(set1))"
      ]
    },
    {
      "cell_type": "code",
      "execution_count": null,
      "metadata": {
        "colab": {
          "base_uri": "https://localhost:8080/",
          "height": 245
        },
        "id": "zi0wpWIkQbuq",
        "outputId": "cda6b483-56f1-4a0d-b6f8-5004451f68e2"
      },
      "outputs": [
        {
          "ename": "NameError",
          "evalue": "ignored",
          "output_type": "error",
          "traceback": [
            "\u001b[0;31m---------------------------------------------------------------------------\u001b[0m",
            "\u001b[0;31mNameError\u001b[0m                                 Traceback (most recent call last)",
            "\u001b[0;32m<ipython-input-31-22d2488b16ba>\u001b[0m in \u001b[0;36m<cell line: 2>\u001b[0;34m()\u001b[0m\n\u001b[1;32m      1\u001b[0m \u001b[0;31m# Duplicates not allowed in sets\u001b[0m\u001b[0;34m\u001b[0m\u001b[0;34m\u001b[0m\u001b[0m\n\u001b[0;32m----> 2\u001b[0;31m \u001b[0mset1\u001b[0m \u001b[0;34m=\u001b[0m\u001b[0;34m{\u001b[0m\u001b[0;34m\"Lahore\"\u001b[0m\u001b[0;34m,\u001b[0m \u001b[0;36m5\u001b[0m\u001b[0;34m,\u001b[0m\u001b[0mfalse\u001b[0m\u001b[0;34m,\u001b[0m \u001b[0;34m\"Lahore\"\u001b[0m\u001b[0;34m,\u001b[0m\u001b[0;34m\"Faisalabad\"\u001b[0m\u001b[0;34m,\u001b[0m\u001b[0mTure\u001b[0m\u001b[0;34m,\u001b[0m\u001b[0;34m\"Lahore\"\u001b[0m\u001b[0;34m,\u001b[0m\u001b[0;34m\"Lahore\"\u001b[0m\u001b[0;34m,\u001b[0m\u001b[0;36m8\u001b[0m\u001b[0;34m,\u001b[0m\u001b[0;36m99\u001b[0m\u001b[0;34m}\u001b[0m\u001b[0;34m\u001b[0m\u001b[0;34m\u001b[0m\u001b[0m\n\u001b[0m\u001b[1;32m      3\u001b[0m \u001b[0mprint\u001b[0m\u001b[0;34m(\u001b[0m\u001b[0;34m(\u001b[0m\u001b[0mset1\u001b[0m\u001b[0;34m)\u001b[0m\u001b[0;34m)\u001b[0m\u001b[0;34m\u001b[0m\u001b[0;34m\u001b[0m\u001b[0m\n\u001b[1;32m      4\u001b[0m \u001b[0;34m\u001b[0m\u001b[0m\n\u001b[1;32m      5\u001b[0m \u001b[0mset2\u001b[0m \u001b[0;34m=\u001b[0m \u001b[0;34m{\u001b[0m\u001b[0;36m5\u001b[0m\u001b[0;34m,\u001b[0m \u001b[0;32mTrue\u001b[0m\u001b[0;34m,\u001b[0m \u001b[0;36m5\u001b[0m\u001b[0;34m}\u001b[0m\u001b[0;34m\u001b[0m\u001b[0;34m\u001b[0m\u001b[0m\n",
            "\u001b[0;31mNameError\u001b[0m: name 'false' is not defined"
          ]
        }
      ],
      "source": [
        "# Duplicates not allowed in sets\n",
        "set1 ={\"Lahore\", 5,false, \"Lahore\",\"Faisalabad\"\"Lahore\",\"Lahore\",8,99}\n",
        "print((set1))\n",
        "\n",
        "set2 = {5, True, 5}\n",
        "print(set2)"
      ]
    },
    {
      "cell_type": "markdown",
      "metadata": {
        "id": "LyscvW2fRHA9"
      },
      "source": [
        "#**Length of a Set**\n",
        "\n",
        "To determine how many items a set has, use the `len()` function."
      ]
    },
    {
      "cell_type": "code",
      "execution_count": null,
      "metadata": {
        "colab": {
          "base_uri": "https://localhost:8080/"
        },
        "id": "mmrJ7LQfRNj1",
        "outputId": "48151535-551e-4f0d-8626-e52d605e2545"
      },
      "outputs": [
        {
          "name": "stdout",
          "output_type": "stream",
          "text": [
            "5\n"
          ]
        }
      ],
      "source": [
        "set1 = {\"Lahore\", \"Faisalabad\", 5, True, 5, \"lahore\"}\n",
        "print(len(set1))"
      ]
    },
    {
      "cell_type": "markdown",
      "metadata": {
        "id": "tcQu0gLJRnvx"
      },
      "source": [
        "#**Access Set Items**\n",
        "\n",
        "You cannot access items in a set by referring to an index or a key.\n",
        "\n",
        "But you can loop through the set items using a `for` loop, or ask if a specified value is present in a set, by using the `in` keyword."
      ]
    },
    {
      "cell_type": "code",
      "execution_count": null,
      "metadata": {
        "colab": {
          "base_uri": "https://localhost:8080/"
        },
        "id": "NUmHCrZYRyEf",
        "outputId": "558ecf1d-e70f-43e7-dc1d-3b1624bf58f0"
      },
      "outputs": [
        {
          "name": "stdout",
          "output_type": "stream",
          "text": [
            "{True, 'Faisalabad', 5, 'Lahore'}\n",
            "True\n",
            "Faisalabad\n",
            "5\n",
            "Lahore\n"
          ]
        }
      ],
      "source": [
        "set1 = {\"Lahore\", \"Faisalabad\", 5, 5, True}\n",
        "if \"Lahore\" in set1:\n",
        "  print(set1)\n",
        "\n",
        "for i in set1:\n",
        "  print(i)"
      ]
    },
    {
      "cell_type": "code",
      "execution_count": null,
      "metadata": {
        "id": "skZ3or5PR8yL"
      },
      "outputs": [],
      "source": [
        "set1 = {\"Lahore\", \"Faisalabad\", 5, True}\n",
        "print(\"Lahore\" in set1)"
      ]
    },
    {
      "cell_type": "markdown",
      "metadata": {
        "id": "QgCWoqkkXG7t"
      },
      "source": [
        "#**Add items in a Set**\n",
        "\n",
        "Once a set is created, you cannot change its items, but you can add new items.\n",
        "\n",
        "To add an item to a set, use the `add()` method.\n",
        "\n",
        "To add items from another set into the current set, use the `update()` method."
      ]
    },
    {
      "cell_type": "code",
      "execution_count": null,
      "metadata": {
        "colab": {
          "base_uri": "https://localhost:8080/"
        },
        "id": "XuJnw81MXpuF",
        "outputId": "4d9dd688-f924-4f0d-d7cb-6533dcfcca00"
      },
      "outputs": [
        {
          "name": "stdout",
          "output_type": "stream",
          "text": [
            "{True, 'Faisalabad', 5, 10, 'Lahore'}\n"
          ]
        }
      ],
      "source": [
        "set1 = {\"Lahore\", \"Faisalabad\", 5, True}\n",
        "set1.add(\"Peshawar\")\n",
        "print(set1)"
      ]
    },
    {
      "cell_type": "code",
      "execution_count": null,
      "metadata": {
        "colab": {
          "base_uri": "https://localhost:8080/"
        },
        "id": "8qWAoPYJX-ne",
        "outputId": "45dc4111-3be9-4596-a1dc-3d95ab15b59c"
      },
      "outputs": [
        {
          "name": "stdout",
          "output_type": "stream",
          "text": [
            "{0, True, 'Faisalabad', 5, 'Lahore'}\n",
            "{True, 'Faisalabad', 4, 5, 7, 'Lahore', 88}\n"
          ]
        }
      ],
      "source": [
        "set1 = {\"Lahore\", \"Faisalabad\", 5, True}\n",
        "set2 = {5, 0, False}\n",
        "set1.update(set2)\n",
        "print(set1)\n",
        "\n",
        "mylist = [4, 7, 88]\n",
        "set1.update(mylist)\n",
        "print(set1)"
      ]
    },
    {
      "cell_type": "markdown",
      "metadata": {
        "id": "1KPGIvR_aNJa"
      },
      "source": [
        "#**Remove Set Items**\n",
        "\n"
      ]
    },
    {
      "cell_type": "code",
      "execution_count": null,
      "metadata": {
        "colab": {
          "base_uri": "https://localhost:8080/"
        },
        "id": "rc3j-MkZaT3C",
        "outputId": "3ed74dc5-d594-4265-a59c-5ef957d9b4b8"
      },
      "outputs": [
        {
          "name": "stdout",
          "output_type": "stream",
          "text": [
            "{True, 5, 'Faisalabad'}\n",
            "{True, 'Lahore', 'Faisalabad'}\n"
          ]
        }
      ],
      "source": [
        "set1 = {\"Lahore\", \"Faisalabad\", 5, True}\n",
        "set1.remove(\"Lahore\")\n",
        "print(set1)\n",
        "\n",
        "\n",
        "set1 = {\"Lahore\", \"Faisalabad\", 5, True}\n",
        "set1.discard(5)\n",
        "print(set1)"
      ]
    },
    {
      "cell_type": "code",
      "execution_count": null,
      "metadata": {
        "colab": {
          "base_uri": "https://localhost:8080/"
        },
        "id": "49elWTSub__1",
        "outputId": "d230a7b4-58cd-4a3e-e17a-b94743b371c2"
      },
      "outputs": [
        {
          "name": "stdout",
          "output_type": "stream",
          "text": [
            "{5, 'Faisalabad', 6}\n"
          ]
        }
      ],
      "source": [
        "set1 = {\"Lahore\", \"Faisalabad\", 5, 6}\n",
        "set1.pop()\n",
        "print(set1)"
      ]
    },
    {
      "cell_type": "code",
      "execution_count": null,
      "metadata": {
        "colab": {
          "base_uri": "https://localhost:8080/"
        },
        "id": "m0-A-cVtcqRr",
        "outputId": "fb253f79-c082-4bc6-88d3-cbbf19420118"
      },
      "outputs": [
        {
          "name": "stdout",
          "output_type": "stream",
          "text": [
            "set()\n"
          ]
        }
      ],
      "source": [
        "set1 = {\"Lahore\", \"Faisalabad\", 5, True}\n",
        "set1.clear()\n",
        "print(set1)"
      ]
    },
    {
      "cell_type": "code",
      "execution_count": null,
      "metadata": {
        "colab": {
          "base_uri": "https://localhost:8080/"
        },
        "id": "USUt0OOecxel",
        "outputId": "a5c0e05c-c15c-47ba-cc29-a72af884a4c8"
      },
      "outputs": [
        {
          "name": "stdout",
          "output_type": "stream",
          "text": [
            "{1, 2, 3, 'pakistan'}\n"
          ]
        }
      ],
      "source": [
        "set1 = {\"Lahore\", \"Faisalabad\", 5, True}\n",
        "set2 = {\"pakistan\",1,2,3}\n",
        "del set1\n",
        "print(set2)"
      ]
    },
    {
      "cell_type": "markdown",
      "metadata": {
        "id": "gFGoJLmhwSfv"
      },
      "source": [
        "#**Join Sets**\n",
        "\n"
      ]
    },
    {
      "cell_type": "code",
      "execution_count": null,
      "metadata": {
        "colab": {
          "base_uri": "https://localhost:8080/"
        },
        "id": "bBzwPlA1wdGp",
        "outputId": "a98b3a3a-68ea-4bda-de39-0b1ad1b466a4"
      },
      "outputs": [
        {
          "name": "stdout",
          "output_type": "stream",
          "text": [
            "{True, 'Faisalabad', 5, 'Lahore'}\n"
          ]
        }
      ],
      "source": [
        "set1 = {\"Lahore\", \"Faisalabad\", 5, True}\n",
        "set2 = {5, 0, False}\n",
        "\n",
        "set1.union(set2)\n",
        "print(set1)"
      ]
    },
    {
      "cell_type": "code",
      "execution_count": null,
      "metadata": {
        "id": "AjaGvq0cxUCl"
      },
      "outputs": [],
      "source": [
        "set1 = {\"Lahore\", \"Faisalabad\", 5, True}\n",
        "set2 = {5, 0, False}\n",
        "set1.update(set2)\n",
        "print(set1)"
      ]
    },
    {
      "cell_type": "markdown",
      "metadata": {
        "id": "6EguYkF_yc9o"
      },
      "source": [
        "#**Some Set Methods**\n",
        "\n",
        "* `intersection_update()`\n",
        "* `intersection()`\n",
        "* `symmetric_difference()`\n",
        "* `difference()`"
      ]
    },
    {
      "cell_type": "code",
      "execution_count": null,
      "metadata": {
        "colab": {
          "base_uri": "https://localhost:8080/"
        },
        "id": "kbWtVe8sym1a",
        "outputId": "57650201-41c5-448f-d13e-0f46645555b1"
      },
      "outputs": [
        {
          "name": "stdout",
          "output_type": "stream",
          "text": [
            "{'python', 5}\n"
          ]
        }
      ],
      "source": [
        "#The intersection_update() method will keep only the items that are present in both sets.\n",
        "set1 = { 5, True,\"python\",7}\n",
        "set2 = {5,6, \"python\"}\n",
        "set1.intersection_update(set2)\n",
        "print(set1)"
      ]
    },
    {
      "cell_type": "code",
      "execution_count": null,
      "metadata": {
        "colab": {
          "base_uri": "https://localhost:8080/"
        },
        "id": "24m1rITkzHNn",
        "outputId": "2208cf94-77e2-4e90-e2eb-335aeca17ec7"
      },
      "outputs": [
        {
          "name": "stdout",
          "output_type": "stream",
          "text": [
            "{5}\n"
          ]
        }
      ],
      "source": [
        "#The intersection() method will return a new set, that only contains the items that are present in both sets.\n",
        "\n",
        "set1 = {\"Lahore\", \"Faisalabad\", 5,}\n",
        "set2 = {5, 4,\"Multan\"}\n",
        "x = set1.intersection(set2)\n",
        "print(x)"
      ]
    },
    {
      "cell_type": "code",
      "execution_count": null,
      "metadata": {
        "colab": {
          "base_uri": "https://localhost:8080/"
        },
        "id": "t8C3QNuVUw-1",
        "outputId": "9b09d6a4-bdac-4a7c-d5fd-0d906d2e352a"
      },
      "outputs": [
        {
          "name": "stdout",
          "output_type": "stream",
          "text": [
            "{'Faisalabad', 'Lahore', 6}\n"
          ]
        }
      ],
      "source": [
        "#difference method Returns a set containing the difference between two or more sets\n",
        "\n",
        "set1 = {\"Lahore\", \"Faisalabad\", 5,6}\n",
        "set2 = {5,7,\"Multan\"}\n",
        "x = set1.difference(set2)\n",
        "print(x)"
      ]
    },
    {
      "cell_type": "code",
      "execution_count": null,
      "metadata": {
        "colab": {
          "base_uri": "https://localhost:8080/"
        },
        "id": "hfl6Gb9ozdd-",
        "outputId": "faf40118-4ded-4d83-eb79-2f51f34e5168"
      },
      "outputs": [
        {
          "name": "stdout",
          "output_type": "stream",
          "text": [
            "{0, 'Lahore', 'Multan', 'Faisalabad'}\n"
          ]
        }
      ],
      "source": [
        "'''The symmetric_difference() method will return a new set, that contains only\n",
        "the elements that are NOT present in both sets.'''\n",
        "\n",
        "set1 = {\"Lahore\", \"Faisalabad\", 5,}\n",
        "set2 = {5, 0,\"Multan\"}\n",
        "a = set2.symmetric_difference(set1)\n",
        "print(a)"
      ]
    },
    {
      "cell_type": "markdown",
      "metadata": {
        "id": "KjZUibs6lN8m"
      },
      "source": [
        "![Screenshot (382).png](data:image/png;base64,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)"
      ]
    },
    {
      "cell_type": "code",
      "execution_count": null,
      "metadata": {
        "colab": {
          "base_uri": "https://localhost:8080/"
        },
        "id": "silQy-AgvKPC",
        "outputId": "9fc63a8f-3e97-4fa5-af2f-ce8238229544"
      },
      "outputs": [
        {
          "name": "stdout",
          "output_type": "stream",
          "text": [
            "([1, 2, 3], {1, 2, 3})\n"
          ]
        }
      ],
      "source": [
        "# set1 = {1,2,3, [\"Python\"]}\n",
        "# print(set1)\n",
        "tuple1 = (1,2,3,[1,2,3])\n",
        "print(tuple1)"
      ]
    },
    {
      "cell_type": "markdown",
      "metadata": {
        "id": "jvy_eVGA1XSe"
      },
      "source": [
        "#**Dictionaries**\n",
        "\n",
        "Dictionaries are used to store data values in key:value pairs.\n",
        "\n",
        "Dictionary items are ordered, changable, and do not allow duplicates.\n",
        "\n",
        "Dictionaries are written with curly brackets, and have keys and values.\n",
        "\n"
      ]
    },
    {
      "cell_type": "code",
      "execution_count": null,
      "metadata": {
        "colab": {
          "base_uri": "https://localhost:8080/"
        },
        "id": "kWnhQVb51wpT",
        "outputId": "79fd8300-6d1d-4eba-be61-155938eb0fcb"
      },
      "outputs": [
        {
          "name": "stdout",
          "output_type": "stream",
          "text": [
            "{1: 'Ali', 'age': 21, 'Country': 'Pakistan', 'city': 'Faisalabad'}\n"
          ]
        }
      ],
      "source": [
        "dict1 = { 1 : \"Ali\",\n",
        "         \"age\" : 21,\n",
        "         \"Country\": \"Pakistan\",\n",
        "         \"city\" : \"Faisalabad\"}\n",
        "print(dict1)"
      ]
    },
    {
      "cell_type": "markdown",
      "metadata": {
        "id": "gzyKGKqIQMKt"
      },
      "source": [
        "# **Length of a dictionary:**\n",
        "By using len() function, we can get the number of key-value pairs in a dictionary."
      ]
    },
    {
      "cell_type": "code",
      "execution_count": null,
      "metadata": {
        "colab": {
          "base_uri": "https://localhost:8080/"
        },
        "id": "xhjex7jf3Dh4",
        "outputId": "837050da-5242-4a06-997e-0c240176212a"
      },
      "outputs": [
        {
          "name": "stdout",
          "output_type": "stream",
          "text": [
            "4\n"
          ]
        }
      ],
      "source": [
        "print(len(dict1))"
      ]
    },
    {
      "cell_type": "markdown",
      "metadata": {
        "id": "BMXSoa-bNrA7"
      },
      "source": [
        "# **Key:Value Datatypes**\n",
        "In dictionary, keys* and values are of any data type.There are no restrictions.\n",
        "\n",
        "*But in case of keys, they cannot be mutable objects(unhashable)."
      ]
    },
    {
      "cell_type": "code",
      "execution_count": null,
      "metadata": {
        "colab": {
          "base_uri": "https://localhost:8080/"
        },
        "id": "8G1d-3B_OS-1",
        "outputId": "29e96793-ff0d-4473-98e3-9889b088ac76"
      },
      "outputs": [
        {
          "data": {
            "text/plain": [
              "dict_keys([1, 'class', (1, 0)])"
            ]
          },
          "execution_count": 9,
          "metadata": {},
          "output_type": "execute_result"
        }
      ],
      "source": [
        "student_info = {\n",
        "    1 : \"Ali\",\n",
        "    \"class\" : 8,\n",
        "    (1,0) : None,\n",
        "\n",
        "\n",
        "\n",
        "}\n",
        "student_info.keys()"
      ]
    },
    {
      "cell_type": "markdown",
      "metadata": {
        "id": "QGsIW-jxPToK"
      },
      "source": [
        "# **Accessing Elements in dictionary:**\n",
        "\n",
        "There is no concept of indexes in dictionary. It is an ordered object but we cannot access elements by using its number indexes. For accessing dictionary elements, we use keys. These keys map the values present against them in dictionary."
      ]
    },
    {
      "cell_type": "code",
      "execution_count": null,
      "metadata": {
        "id": "dMmJGmcvP_8I"
      },
      "outputs": [],
      "source": [
        "dict1 = {\"name\" : \"Ali\",\n",
        "         \"age\" : 21,\n",
        "         \"country\" : \"Pakistan\",\n",
        "         \"city\" : \"Faisalabad\"}\n",
        "# print(dict1)\n",
        "print(dict1[\"age\"])"
      ]
    },
    {
      "cell_type": "markdown",
      "metadata": {
        "id": "rKiL7av4Qgt_"
      },
      "source": [
        "# **Duplicate Values in Dictionary:**\n",
        "In case of dictionary values, duplicates are allowed. But duplication of keys is not allowed.\n",
        "\n",
        "*  If we use same key two times in a dictionary, the value against that key gets updated and the former value get discarded. And the dictionary will contain only one key of that name.\n",
        "\n",
        "*  Key is a unique identifier that is used to map a specific value present against it in the dictionary. It cannot be duplicated. You cannot use  same key to map two different values.\n",
        "\n",
        "\n",
        "\n"
      ]
    },
    {
      "cell_type": "code",
      "execution_count": null,
      "metadata": {
        "colab": {
          "base_uri": "https://localhost:8080/"
        },
        "id": "9CL96q2C2cds",
        "outputId": "8352eeaa-a1d1-4923-f7f0-0413ef56ed85"
      },
      "outputs": [
        {
          "name": "stdout",
          "output_type": "stream",
          "text": [
            "{'name': 'Ali', 'age': 20, 'country': 'Pakistan', 'city': 'Pakistan'}\n"
          ]
        }
      ],
      "source": [
        "dict2 = {\"name\" : \"Ali\",\n",
        "         \"age\" : 21,\n",
        "         \"country\" : \"Pakistan\",\n",
        "         \"city\" : \"Pakistan\",\n",
        "         \"age\" : 18,\n",
        "         \"age\"  : 20\n",
        "         }\n",
        "print(dict2)"
      ]
    },
    {
      "cell_type": "markdown",
      "metadata": {
        "id": "TUqe_xapSIpp"
      },
      "source": [
        "# **Add elements in Dictionary:**\n",
        "New elements can be added in dictionary simply by introducing a new key-value pair."
      ]
    },
    {
      "cell_type": "code",
      "execution_count": null,
      "metadata": {
        "colab": {
          "base_uri": "https://localhost:8080/"
        },
        "id": "yeBDHW87SaQK",
        "outputId": "5946cb55-6007-4f73-d05f-17beafe7c500"
      },
      "outputs": [
        {
          "name": "stdout",
          "output_type": "stream",
          "text": [
            "{'name': 'Ali', 21: 21, 'country': 'Pakistan', 'city': 'Faisalabad', 'employed': 54}\n"
          ]
        }
      ],
      "source": [
        "dict2 = {\"name\" : \"Ali\",\n",
        "          21 : 21,\n",
        "         \"country\" : \"Pakistan\",\n",
        "         \"city\" : \"Faisalabad\",\n",
        "        }\n",
        "dict2[\"employed\"] = 54\n",
        "print(dict2)"
      ]
    },
    {
      "cell_type": "markdown",
      "metadata": {
        "id": "pVfjtKlYSxgT"
      },
      "source": [
        "# **Change Value in a dictionary:**\n",
        "We can change a value in a dictionary by assigning new value to the key."
      ]
    },
    {
      "cell_type": "code",
      "execution_count": null,
      "metadata": {
        "id": "3W09pvCQTCit"
      },
      "outputs": [],
      "source": [
        "dict2 = {\"name\" : \"Ali\",\n",
        "         \"age\" : 21,\n",
        "         \"country\" : \"Pakistan\",\n",
        "         \"city\" : \"Faisalabad\",\n",
        "        }\n",
        "dict2[\"city\"] = \"Lahore\"\n",
        "# dict2[21] = \"Hello\"\n",
        "print(dict2)"
      ]
    },
    {
      "cell_type": "markdown",
      "metadata": {
        "id": "55tBW2f8TyW1"
      },
      "source": [
        "# **Memebership Operators:**\n",
        "In dictionary, we can use membership operators to know whether a key present in a dictionary or not.\n",
        "It cannot be used to check values in dictionary."
      ]
    },
    {
      "cell_type": "code",
      "execution_count": null,
      "metadata": {
        "id": "qx6mY8q7UGHo"
      },
      "outputs": [],
      "source": [
        "dict2 = {\"name\" : \"Ali\",\n",
        "         \"age\" : 21,\n",
        "         \"country\" : \"Pakistan\",\n",
        "         \"city\" : \"Faisalabad\",\n",
        "        }\n",
        "# print(\"name\" not in dict2)\n",
        "# print(\"city\" not in dict2)\n",
        "print(\"Pakistan\" in dict2)"
      ]
    },
    {
      "cell_type": "markdown",
      "metadata": {
        "id": "9DfozJZUUZQS"
      },
      "source": [
        "# **Iterating through Dictionary:**\n",
        "By using for loop, we can iterate through a dictionary."
      ]
    },
    {
      "cell_type": "code",
      "execution_count": null,
      "metadata": {
        "colab": {
          "base_uri": "https://localhost:8080/"
        },
        "id": "3OU1ByWzUkRj",
        "outputId": "6ab4eab7-3d16-4940-f550-a312c6acba38"
      },
      "outputs": [
        {
          "name": "stdout",
          "output_type": "stream",
          "text": [
            "name\n",
            "age\n",
            "country\n",
            "city\n"
          ]
        }
      ],
      "source": [
        "dict2 = {\"name\" : \"Ali\",\n",
        "         \"age\" : 21,\n",
        "         \"country\" : \"Pakistan\",\n",
        "         \"city\" : \"Faisalabad\",\n",
        "        }\n",
        "\n",
        "for i in dict2:\n",
        "  print(i)\n",
        "  #print(dict2[i])\n",
        "  #print(i, \":\", dict2[i])\n",
        "  # print(value)\n",
        "\n"
      ]
    },
    {
      "cell_type": "markdown",
      "metadata": {
        "id": "VsGTcYeIVEYG"
      },
      "source": [
        "# **Nested Dictionary:**\n",
        "When there is another dictionary inside a dictionary, it is called nested dictionary."
      ]
    },
    {
      "cell_type": "code",
      "execution_count": null,
      "metadata": {
        "colab": {
          "base_uri": "https://localhost:8080/"
        },
        "id": "SXMg8SkSVZh8",
        "outputId": "e560e18f-3f53-4a3f-eac7-b03f0595b984"
      },
      "outputs": [
        {
          "name": "stdout",
          "output_type": "stream",
          "text": [
            "employed\n"
          ]
        }
      ],
      "source": [
        "dict2 = {\"name\" : \"Ali\",\n",
        "         \"age\" : 21,\n",
        "         \"country\" : \"Pakistan\",\n",
        "         \"city\" : \"Faisalabad\",\n",
        "          \"dict3\" : {\"status\" : \"employed\",\"profession\" : \"Teaching\"},\n",
        "        }\n",
        "print(dict2[\"dict3\"][\"status\"] )\n",
        "\n",
        "# print(dict3)"
      ]
    },
    {
      "cell_type": "markdown",
      "metadata": {
        "id": "qRjC8HGcWGpR"
      },
      "source": [
        "# **Dictionary Methods:**\n",
        "\n",
        "\n",
        "* **clear()**\n",
        "It is used to clear data from a dictionary.\n",
        "*  **keys()**\n",
        "It is used to get a list of all the keys present in a dictionary.\n",
        "*   **values()**\n",
        "It is used to get a list of all the values present in a dictionary.\n",
        "*   **item()**\n",
        "It is used to get all the elements of a dictionary.\n",
        "*   **get()**\n",
        "It is used to get specified keys' value from a dictionary.\n",
        "\n",
        "\n",
        "\n",
        "\n"
      ]
    },
    {
      "cell_type": "code",
      "execution_count": null,
      "metadata": {
        "id": "nHs4tqBkZb3y"
      },
      "outputs": [],
      "source": [
        "dict2 = {\"name\" : \"Ali\",\n",
        "         \"age\" : 21,\n",
        "         \"country\" : \"Pakistan\",\n",
        "         \"city\" : \"Faisalabad\",\n",
        "        }\n",
        "dict2.clear()\n",
        "print(dict2)"
      ]
    },
    {
      "cell_type": "code",
      "execution_count": null,
      "metadata": {
        "id": "bfFPh2u2ZjlZ"
      },
      "outputs": [],
      "source": [
        "dict2 = {\"name\" : \"Ali\",\n",
        "         \"age\" : 21,\n",
        "         \"country\" : \"Pakistan\",\n",
        "         \"city\" : \"Faisalabad\",\n",
        "        }\n",
        "a = dict2.keys()\n",
        "print(a)"
      ]
    },
    {
      "cell_type": "code",
      "execution_count": null,
      "metadata": {
        "id": "5QeAC16nZxkU"
      },
      "outputs": [],
      "source": [
        "dict2 = {\"name\" : \"Ali\",\n",
        "         \"age\" : 21,\n",
        "         \"country\" : \"Pakistan\",\n",
        "         \"city\" : \"Faisalabad\",\n",
        "        }\n",
        "dict2.values()"
      ]
    },
    {
      "cell_type": "code",
      "execution_count": null,
      "metadata": {
        "colab": {
          "base_uri": "https://localhost:8080/"
        },
        "id": "dDf0R1m7Z5z6",
        "outputId": "9ffe2faa-b572-4a66-9cf3-e6afe4802d14"
      },
      "outputs": [
        {
          "name": "stdout",
          "output_type": "stream",
          "text": [
            "laiba\n"
          ]
        }
      ],
      "source": [
        "dict2 = {\"name\" : \"Ali\",\n",
        "         \"age\" : 21,\n",
        "         \"country\" : \"Pakistan\",\n",
        "         \"city\" : \"Faisalabad\",\n",
        "        }\n",
        "dict2.get(\"student\",\"laiba\")\n",
        "print(dict2)"
      ]
    },
    {
      "cell_type": "code",
      "execution_count": null,
      "metadata": {
        "id": "2DeWl_0BaBb_"
      },
      "outputs": [],
      "source": [
        "dict2 = {\"name\" : \"Ali\",\n",
        "         \"age\" : 21,\n",
        "         \"country\" : \"Pakistan\",\n",
        "         \"city\" : \"Faisalabad\",\n",
        "        }\n",
        "#dict2[\"status\"]\n",
        "dict2.get(\"status\", \"key not found\")\n",
        "#print(dict2)"
      ]
    },
    {
      "cell_type": "markdown",
      "metadata": {
        "id": "pu-dvRTWTObO"
      },
      "source": [
        "# **Removing Elements from Dictionary:**\n",
        "To remove elements from a dictionary, following methods are used:\n",
        "* **pop()**\n",
        "It is used to remove specified element from a dictionary.\n",
        "*  **popitem()**\n",
        "It is used to remove last element from a dictionary. It takes no argument.\n"
      ]
    },
    {
      "cell_type": "code",
      "execution_count": null,
      "metadata": {
        "colab": {
          "base_uri": "https://localhost:8080/"
        },
        "id": "T2O8QnZZ9yvP",
        "outputId": "a6943e78-7f67-4ddb-db55-bdc2fcf4222a"
      },
      "outputs": [
        {
          "name": "stdout",
          "output_type": "stream",
          "text": [
            "11\n",
            "12\n",
            "13\n",
            "14\n",
            "15\n",
            "16\n",
            "17\n",
            "18\n",
            "19\n",
            "29\n"
          ]
        }
      ],
      "source": [
        "def foo(x):\n",
        "  x += 1\n",
        "  if x < 20:\n",
        "    return foo(x) + 1\n",
        "  else:\n",
        "    return x\n",
        "x = 10\n",
        "print(foo(x))"
      ]
    },
    {
      "cell_type": "code",
      "execution_count": null,
      "metadata": {
        "colab": {
          "base_uri": "https://localhost:8080/"
        },
        "id": "B3OWwpPA93Yc",
        "outputId": "74f3423e-1513-4972-f9a9-fe77b5a91c93"
      },
      "outputs": [
        {
          "name": "stdout",
          "output_type": "stream",
          "text": [
            "100\n"
          ]
        },
        {
          "data": {
            "text/plain": [
              "326"
            ]
          },
          "execution_count": 4,
          "metadata": {},
          "output_type": "execute_result"
        }
      ],
      "source": []
    },
    {
      "cell_type": "code",
      "execution_count": null,
      "metadata": {
        "id": "fXICXR97hqg7"
      },
      "outputs": [],
      "source": [
        "dict3 = {\n",
        "    1 : \"Python\",\n",
        "    2 : \"C++\",\n",
        "    3 : \"Java\",\n",
        "    4: \"Ruby\",\n",
        "    5 : \"C\",\n",
        "}\n",
        "# dict3.pop()\n",
        "a = dict3.pop(2)\n",
        "print(dict3)\n",
        "print(a)\n",
        "\n"
      ]
    },
    {
      "cell_type": "code",
      "execution_count": null,
      "metadata": {
        "colab": {
          "base_uri": "https://localhost:8080/"
        },
        "id": "DLudEv2Dii1K",
        "outputId": "d826ccbb-0d0f-425f-a873-bf988150c65b"
      },
      "outputs": [
        {
          "name": "stdout",
          "output_type": "stream",
          "text": [
            "[1, 2, 3, 4, 1]\n",
            "[1, 2, 3, 4]\n"
          ]
        }
      ],
      "source": [
        "a = dict3.popitem()\n",
        "print(dict3)\n",
        "print(a)"
      ]
    },
    {
      "cell_type": "markdown",
      "metadata": {
        "id": "o5u1pWwkhsLA"
      },
      "source": [
        "*   **update()**\n",
        "It is used to update key-value pairs in a dictionary."
      ]
    },
    {
      "cell_type": "code",
      "execution_count": null,
      "metadata": {
        "id": "6UCuMnM6jRe_"
      },
      "outputs": [],
      "source": [
        "dict2 = {\"name\" : \"Ali\",\n",
        "         \"age\" : 21,\n",
        "         \"country\" : \"Pakistan\",\n",
        "         \"city\" : \"Faisalabad\",\n",
        "        }\n",
        "dict3 = {\n",
        "    1 : \"Python\",\n",
        "    2 : \"C++\",\n",
        "    3 : \"Java\",\n",
        "    4: \"Ruby\",\n",
        "    5 : \"C\",\n",
        "}\n",
        "dict3.update(dict2)\n",
        "print(dict3)\n",
        "# print(a)"
      ]
    },
    {
      "cell_type": "markdown",
      "metadata": {
        "id": "SlOLN5Zjkpv1"
      },
      "source": [
        "# **dict() constructor:**"
      ]
    },
    {
      "cell_type": "code",
      "execution_count": null,
      "metadata": {
        "id": "0BYCKFw-XY0M"
      },
      "outputs": [],
      "source": [
        "numbers = {1: \"x\" , 2: \"y\"}\n",
        "print(numbers)"
      ]
    },
    {
      "cell_type": "code",
      "execution_count": null,
      "metadata": {
        "id": "U0QshZ9klkEJ"
      },
      "outputs": [],
      "source": [
        "numbers1 = dict([('x', 5), ('y', 10)])\n",
        "print('numbers1 =',numbers1)"
      ]
    },
    {
      "cell_type": "code",
      "execution_count": null,
      "metadata": {
        "id": "3LZNTP8Jll2s"
      },
      "outputs": [],
      "source": [
        "numbers2 = dict(x = 5 , y = 10 , z=8)\n",
        "print(\"numbers2=\" ,numbers2)"
      ]
    },
    {
      "cell_type": "code",
      "execution_count": null,
      "metadata": {
        "id": "lRaOuvyzlrjC"
      },
      "outputs": [],
      "source": [
        "numbers3 = dict(zip(['x', 'y', 'z'], [1, 2, 3]))\n",
        "print('numbers3 =',numbers3)"
      ]
    },
    {
      "cell_type": "code",
      "execution_count": null,
      "metadata": {
        "id": "tgW--tmTtJSi"
      },
      "outputs": [],
      "source": [
        "# How can we write correct spelling of cherry\n",
        "x = [3, \"Apple\", [55, 77], [\"chrrry\", \"banana\"]]\n",
        "# x[2][0] = 80\n",
        "x[3][0] = \"cherry\"\n",
        "print(x)\n",
        "# string1= \"Hello Wolld!\""
      ]
    },
    {
      "cell_type": "code",
      "execution_count": null,
      "metadata": {
        "id": "Iwj8DdRWtRAj"
      },
      "outputs": [],
      "source": [
        "# how can we initialize an empty set\n",
        "# string = \"\"\n",
        "# print(type(string))\n",
        "set1 = ()\n",
        "print(type(set1))\n"
      ]
    },
    {
      "cell_type": "code",
      "execution_count": null,
      "metadata": {
        "id": "luVDpgMmtXQg"
      },
      "outputs": [],
      "source": [
        "# how can we initialize a tuple with a single value\n",
        "tuple1 = (1,)\n",
        "type(tuple1)\n"
      ]
    },
    {
      "cell_type": "markdown",
      "metadata": {
        "id": "w7YtvGpvW6Vt"
      },
      "source": [
        "# **Conditions:**\n",
        "\n",
        "Conditions are used in program when we want to execute a specific portion of that on the basis of the incoming input.\n",
        "\n",
        "The statement next to a condition will only excecute if it's true otherwise it'll be ignored by the interpretor.\n",
        "\n",
        "**Keywords:**\n",
        "\n",
        "if\n",
        "\n",
        "elif\n",
        "\n",
        "else\n"
      ]
    },
    {
      "cell_type": "code",
      "execution_count": null,
      "metadata": {
        "colab": {
          "base_uri": "https://localhost:8080/"
        },
        "id": "M8d7J7ceZS1L",
        "outputId": "22c79212-13a0-473a-c68a-a850a00fa3d9"
      },
      "outputs": [
        {
          "name": "stdout",
          "output_type": "stream",
          "text": [
            "True\n"
          ]
        }
      ],
      "source": [
        "a= 5\n",
        "b = 8\n",
        "print(a<b)"
      ]
    },
    {
      "cell_type": "code",
      "execution_count": null,
      "metadata": {
        "colab": {
          "base_uri": "https://localhost:8080/"
        },
        "id": "EOgy2wV8am3E",
        "outputId": "22cd5fbb-f3c4-426d-f132-b87249674bc0"
      },
      "outputs": [
        {
          "name": "stdout",
          "output_type": "stream",
          "text": [
            "Your statement is false\n"
          ]
        }
      ],
      "source": [
        "a = 3\n",
        "b = 5\n",
        "if a > b:\n",
        "    print(\"Hello there!\")\n",
        "else:\n",
        "  print(\"Your statement is false\")"
      ]
    },
    {
      "cell_type": "code",
      "execution_count": null,
      "metadata": {
        "colab": {
          "base_uri": "https://localhost:8080/"
        },
        "id": "zUWJSDEPra-p",
        "outputId": "07bc4e95-f029-4f2d-fd27-3cbc658e51ed"
      },
      "outputs": [
        {
          "name": "stdout",
          "output_type": "stream",
          "text": [
            "Hello World\n"
          ]
        }
      ],
      "source": [
        "a = 3\n",
        "b = 5\n",
        "if a>b:\n",
        "  print(\"a is greater than b\")\n",
        "print(\"Hello World\")\n",
        "#else:\n",
        "  #print(\"a is not greater than b\")"
      ]
    },
    {
      "cell_type": "code",
      "execution_count": null,
      "metadata": {
        "colab": {
          "base_uri": "https://localhost:8080/"
        },
        "id": "7wDH5RNMr5eG",
        "outputId": "a647e743-4c24-40bd-9ab9-57b29344495b"
      },
      "outputs": [
        {
          "name": "stdout",
          "output_type": "stream",
          "text": [
            "a is less than b\n"
          ]
        }
      ],
      "source": [
        "a,b = 5,7\n",
        "if a==3:\n",
        "  print(\"a is greater than b\")\n",
        "elif a<b:\n",
        "  print(\"a is less than b\")\n",
        "else:\n",
        "  print(\"a is equal to b\")"
      ]
    },
    {
      "cell_type": "code",
      "execution_count": null,
      "metadata": {
        "colab": {
          "base_uri": "https://localhost:8080/"
        },
        "id": "104YNGs2bEfR",
        "outputId": "f282a053-677e-4a42-c643-717492e025d8"
      },
      "outputs": [
        {
          "name": "stdout",
          "output_type": "stream",
          "text": [
            "Enter your marks: 67\n",
            "Your grade is: C\n"
          ]
        },
        {
          "data": {
            "text/plain": [
              "str"
            ]
          },
          "execution_count": 85,
          "metadata": {},
          "output_type": "execute_result"
        }
      ],
      "source": [
        "# Grading System using conditions\n",
        "marks = int(input(\"Enter your marks: \"))\n",
        "if marks >= 90:\n",
        "  grade = \"A\"\n",
        "elif marks >= 70:\n",
        "  grade = \"B\"\n",
        "elif marks >= 50:\n",
        "  grade = \"C\"\n",
        "elif marks >= 40:\n",
        "  grade = \"D\"\n",
        "else:\n",
        "  grade = \"F\"\n",
        "print(\"Your grade is:\", grade)\n",
        "type(grade)"
      ]
    },
    {
      "cell_type": "code",
      "execution_count": null,
      "metadata": {
        "id": "7bqutVi9sqn8"
      },
      "outputs": [],
      "source": [
        "# Program for a basic calculator\n",
        "a = int(input(\"Enter the first digit: \"))\n",
        "b = int(input(\"Enter the second digit: \"))\n",
        "c = input(\"Choose an operator of the following: \\n+ \\n- \\n* \\n/ \\n\")\n",
        "\n",
        "if c == \"+\":\n",
        "  z = (a+b)\n",
        "elif c == \"-\":\n",
        "  z = (a-b)\n",
        "elif c == \"*\":\n",
        "  z = (a*b)\n",
        "elif c == \"/\":\n",
        "  z = (a/b)\n",
        "print(\"Your solution is: \", z)"
      ]
    },
    {
      "cell_type": "markdown",
      "metadata": {
        "id": "pM5Ar7u-jWlT"
      },
      "source": [
        "# **Short Hand if**\n",
        "\n",
        "If you have only one statement to execute, you can put it on the same line as the if statement."
      ]
    },
    {
      "cell_type": "code",
      "execution_count": null,
      "metadata": {
        "id": "oqpUhevyjrAd"
      },
      "outputs": [],
      "source": [
        "a,b = 9,7\n",
        "if a>b:print(\"a is greater than b\"), print(5)"
      ]
    },
    {
      "cell_type": "markdown",
      "metadata": {
        "id": "IROSjkLXmF06"
      },
      "source": [
        "# **Short Hand if...else**\n",
        "\n",
        "If you have only one statement to execute, one for if, and one for else, you can put it all on the same line."
      ]
    },
    {
      "cell_type": "code",
      "execution_count": null,
      "metadata": {
        "id": "_RgVFNu6mZ1S"
      },
      "outputs": [],
      "source": [
        "a=5\n",
        "b=5\n",
        "print(\"a\") if a>b else print(\"b\")\n",
        "print(\"a\") if a<b else print(\"same\") if a==b else print(\"hello\")"
      ]
    },
    {
      "cell_type": "markdown",
      "metadata": {
        "id": "q0NJa5s9nU1A"
      },
      "source": [
        "#**Logical Operators in Conditions**\n",
        "\n",
        "using `and`, `or`, `not`"
      ]
    },
    {
      "cell_type": "code",
      "execution_count": null,
      "metadata": {
        "id": "8j9yDCeBkgkN"
      },
      "outputs": [],
      "source": [
        "a>b and a==b"
      ]
    },
    {
      "cell_type": "code",
      "execution_count": null,
      "metadata": {
        "id": "TWavy75CwQI6"
      },
      "outputs": [],
      "source": [
        "a = 50\n",
        "b = 100\n",
        "c = 300\n",
        "if a>b or a>c:\n",
        "  print(\"a is greater than all\")\n",
        "elif b>a or b>c:\n",
        "  print(\"b is greater than all\")\n",
        "elif c>a and c>b:\n",
        "  print(\"c is greater than all\")\n"
      ]
    },
    {
      "cell_type": "code",
      "execution_count": null,
      "metadata": {
        "id": "nauCEObXw3kR"
      },
      "outputs": [],
      "source": [
        "if not a>b:\n",
        "  print(\"a is not greater than b\")"
      ]
    },
    {
      "cell_type": "code",
      "execution_count": null,
      "metadata": {
        "id": "UlfWqDTtjM-y"
      },
      "outputs": [],
      "source": [
        "''' Accept three sides of a triangle and check whether it is an equilateral, isosceles or scalene triangle.\n",
        "Note :\n",
        "An equilateral triangle is a triangle in which all three sides are equal.\n",
        "A scalene triangle is a triangle that has three unequal sides.\n",
        "An isosceles triangle is a triangle with (at least) two equal sides.'''\n",
        "\n",
        "a = float(input(\"first side: \"))\n",
        "b = float(input(\"second side: \"))\n",
        "c = float(input(\"third side: \"))\n",
        "if a==b==c:\n",
        "  print(\"Equilateral triangle\")\n",
        "elif a==b or a==c or b==c:\n",
        "  print(\"Isosceles triangle\")\n",
        "else:\n",
        "  print(\"Scalene triangle\")\n"
      ]
    },
    {
      "cell_type": "code",
      "execution_count": null,
      "metadata": {
        "id": "BX3EkusalDlL"
      },
      "outputs": [],
      "source": [
        "#Write a program to check whether a number(accepted by user) is divisible by 2 and 3 both.\n",
        "\n",
        "a = int(input(\"Enter a number: \"))\n",
        "if a%2==0 and a%5==0:\n",
        "  print(\"Number is divisible.\")"
      ]
    },
    {
      "cell_type": "code",
      "execution_count": null,
      "metadata": {
        "id": "5RsDQKy0mcfN"
      },
      "outputs": [],
      "source": [
        "# Accept the age of 4 people and display the youngest one.\n",
        "\n",
        "a = int(input(\"Age: \"))\n",
        "b = int(input(\"Age: \"))\n",
        "c = int(input(\"Age: \"))\n",
        "d = int(input(\"Age: \"))\n",
        "youngest = max(a,b,c,d)\n",
        "print(\"Youngest age is: \", youngest)"
      ]
    },
    {
      "cell_type": "markdown",
      "metadata": {
        "id": "qLGZAo_cnnar"
      },
      "source": [
        "#**Nested if**\n",
        "\n",
        "When you have `if` statement inside `if` statement, it is called nested if statement."
      ]
    },
    {
      "cell_type": "code",
      "execution_count": null,
      "metadata": {
        "id": "XdSvTtaGx8qY"
      },
      "outputs": [],
      "source": [
        "marks = int(input(\"Enter your marks: \"))\n",
        "if marks >= 60:\n",
        "  if marks >= 80:\n",
        "    print(\"Pass with excellent performance.\")\n",
        "  else:\n",
        "    print(\"Pass but need more concentration.\")\n",
        "else:\n",
        "  print(\"Fail\")"
      ]
    },
    {
      "cell_type": "code",
      "execution_count": null,
      "metadata": {
        "id": "YD0g0FV2p2zr"
      },
      "outputs": [],
      "source": [
        "marks = int(input(\"Enter your marks: \"))\n",
        "if marks >= 60:\n",
        "  if marks >= 80:\n",
        "    print(\"Pass with excellent performance.\")\n",
        "  else:\n",
        "    print(\"Pass but need more concentration.\")\n",
        "else:\n",
        "  print(\"Fail\")"
      ]
    },
    {
      "cell_type": "markdown",
      "metadata": {
        "id": "bJmMy-vXn6lB"
      },
      "source": [
        "#**Pass Statement**\n",
        "\n",
        "if statements cannot be empty, but if you for some reason have an if statement with no content, put in the `pass` statement to avoid getting an error."
      ]
    },
    {
      "cell_type": "code",
      "execution_count": null,
      "metadata": {
        "id": "q2LMpJ1Fy3XR"
      },
      "outputs": [],
      "source": [
        "a = 5\n",
        "b = 7\n",
        "if a<b:\n",
        "  pass"
      ]
    },
    {
      "cell_type": "markdown",
      "metadata": {
        "id": "tkUyYE3wb1rG"
      },
      "source": [
        "# **Loops:**\n",
        "\n",
        "If we want to perform few steps of a program repeatedly, we will use loops instead of writing these lines each time.\n",
        "\n",
        "Loops make the program more efficient.\n",
        "\n",
        "In python, no braces are used to separate a block of statemments from the whole program. On the other hand, proper indentations are used for this purpose.\n",
        "\n",
        "Two types of loops are used in python.\n",
        "\n",
        "\n",
        "*   For loop\n",
        "*   while loop\n",
        "\n"
      ]
    },
    {
      "cell_type": "markdown",
      "metadata": {
        "id": "IpFHOowbPN48"
      },
      "source": [
        "#**While Loop**\n",
        "\n",
        "With the `while` loop we can execute a set of statements as long as a condition is true."
      ]
    },
    {
      "cell_type": "code",
      "execution_count": null,
      "metadata": {
        "id": "zx1xRi2KtC9J"
      },
      "outputs": [],
      "source": [
        "while condition:\n",
        "  statement"
      ]
    },
    {
      "cell_type": "code",
      "execution_count": null,
      "metadata": {
        "colab": {
          "base_uri": "https://localhost:8080/"
        },
        "id": "CgL66wFVx9td",
        "outputId": "c26665ac-a7b0-4ecc-90b3-a4edbbe71af4"
      },
      "outputs": [
        {
          "name": "stdout",
          "output_type": "stream",
          "text": [
            "1\n",
            "3\n",
            "5\n",
            "Done\n"
          ]
        }
      ],
      "source": [
        "i = 1\n",
        "while i<=5:\n",
        "  print(i)\n",
        "  i += 2  #i = i + 1\n",
        "print(\"Done\")"
      ]
    },
    {
      "cell_type": "code",
      "execution_count": null,
      "metadata": {
        "colab": {
          "base_uri": "https://localhost:8080/"
        },
        "id": "HVnFuoFjyD3d",
        "outputId": "e68d2c96-90a6-4b2a-bfc3-7653d141db48"
      },
      "outputs": [
        {
          "name": "stdout",
          "output_type": "stream",
          "text": [
            "0\n",
            "1\n",
            "2\n",
            "3\n",
            "4\n",
            "5\n"
          ]
        }
      ],
      "source": [
        "i = 0\n",
        "n = 5\n",
        "while i<=n:\n",
        "  print(i)\n",
        "  i += 1"
      ]
    },
    {
      "cell_type": "markdown",
      "metadata": {
        "id": "88YuFNSzJPGZ"
      },
      "source": []
    },
    {
      "cell_type": "code",
      "execution_count": null,
      "metadata": {
        "colab": {
          "base_uri": "https://localhost:8080/"
        },
        "id": "RBPc-wowRtgC",
        "outputId": "3226fad9-3c47-4234-8917-3d83b091895a"
      },
      "outputs": [
        {
          "name": "stdout",
          "output_type": "stream",
          "text": [
            "python\n",
            "python\n",
            "python\n",
            "python\n",
            "python\n"
          ]
        }
      ],
      "source": [
        "i = 1\n",
        "while i<=5:\n",
        "  print(\"python\")\n",
        "  i = i+1"
      ]
    },
    {
      "cell_type": "code",
      "execution_count": null,
      "metadata": {
        "colab": {
          "base_uri": "https://localhost:8080/"
        },
        "id": "uyfBtwpQR8Y5",
        "outputId": "5747d84a-6d6f-4407-a4c0-a1ed3717eb9f"
      },
      "outputs": [
        {
          "name": "stdout",
          "output_type": "stream",
          "text": [
            "x\n",
            "xx\n",
            "xxx\n",
            "xxxx\n",
            "xxxxx\n"
          ]
        }
      ],
      "source": [
        "i = 1\n",
        "while i<= 5:\n",
        "  print(\"x\" * i)\n",
        "  i += 1"
      ]
    },
    {
      "cell_type": "code",
      "execution_count": null,
      "metadata": {
        "colab": {
          "base_uri": "https://localhost:8080/",
          "height": 273
        },
        "id": "oBBtE4XGKUNB",
        "outputId": "3a3c0717-398e-4edf-9a1f-cf0d2bb70662"
      },
      "outputs": [
        {
          "name": "stdout",
          "output_type": "stream",
          "text": [
            "Enter number between 1-10023\n",
            "Enter number between 1-1006\n",
            "Enter number between 1-100-1\n"
          ]
        },
        {
          "ename": "NameError",
          "evalue": "ignored",
          "output_type": "error",
          "traceback": [
            "\u001b[0;31m---------------------------------------------------------------------------\u001b[0m",
            "\u001b[0;31mNameError\u001b[0m                                 Traceback (most recent call last)",
            "\u001b[0;32m<ipython-input-17-6838a2d01761>\u001b[0m in \u001b[0;36m<cell line: 4>\u001b[0;34m()\u001b[0m\n\u001b[1;32m      2\u001b[0m \u001b[0;32mwhile\u001b[0m  \u001b[0;34m(\u001b[0m\u001b[0;36m1\u001b[0m\u001b[0;34m<=\u001b[0m\u001b[0mx\u001b[0m\u001b[0;34m<=\u001b[0m\u001b[0;36m100\u001b[0m\u001b[0;34m)\u001b[0m\u001b[0;34m:\u001b[0m\u001b[0;34m\u001b[0m\u001b[0;34m\u001b[0m\u001b[0m\n\u001b[1;32m      3\u001b[0m        \u001b[0mx\u001b[0m\u001b[0;34m=\u001b[0m \u001b[0mint\u001b[0m\u001b[0;34m(\u001b[0m\u001b[0minput\u001b[0m\u001b[0;34m(\u001b[0m\u001b[0;34m\"Enter number between 1-100\"\u001b[0m\u001b[0;34m)\u001b[0m\u001b[0;34m)\u001b[0m\u001b[0;34m\u001b[0m\u001b[0;34m\u001b[0m\u001b[0m\n\u001b[0;32m----> 4\u001b[0;31m \u001b[0mPrint\u001b[0m \u001b[0;34m(\u001b[0m\u001b[0;34m\"valid No\"\u001b[0m \u001b[0;34m,\u001b[0m\u001b[0mx\u001b[0m\u001b[0;34m)\u001b[0m\u001b[0;34m\u001b[0m\u001b[0;34m\u001b[0m\u001b[0m\n\u001b[0m",
            "\u001b[0;31mNameError\u001b[0m: name 'Print' is not defined"
          ]
        }
      ],
      "source": [
        "x=1\n",
        "while  (1<=x<=100):\n",
        "       x= int(input(\"Enter number between 1-100\"))\n",
        "print (\"valid No\" ,x)"
      ]
    },
    {
      "cell_type": "markdown",
      "metadata": {
        "id": "ZapfggS7SPs8"
      },
      "source": [
        "#**Break Statement**\n",
        "\n",
        "With the break statement we can stop the loop even if the while condition is true."
      ]
    },
    {
      "cell_type": "code",
      "execution_count": null,
      "metadata": {
        "colab": {
          "base_uri": "https://localhost:8080/"
        },
        "id": "GS5DoOfsSXki",
        "outputId": "5505ee2d-69b1-46da-9851-db1f59b7de50"
      },
      "outputs": [
        {
          "name": "stdout",
          "output_type": "stream",
          "text": [
            "1\n",
            "2\n",
            "3\n"
          ]
        }
      ],
      "source": [
        "i = 1\n",
        "while i<6:\n",
        "  print(i)\n",
        "  if i == 3:\n",
        "    break\n",
        "  i+=1"
      ]
    },
    {
      "cell_type": "code",
      "execution_count": null,
      "metadata": {
        "colab": {
          "background_save": true
        },
        "id": "vuLx7cFn5GbC",
        "outputId": "02b5a360-174a-4b45-bcac-084098e91f29"
      },
      "outputs": [
        {
          "name": "stdout",
          "output_type": "stream",
          "text": [
            "1\n",
            "2\n"
          ]
        }
      ],
      "source": [
        "i = 1\n",
        "while i<6:\n",
        "  if i == 3:\n",
        "    break\n",
        "  print(i)\n",
        "  i+=1"
      ]
    },
    {
      "cell_type": "markdown",
      "metadata": {
        "id": "L7N4TdQ0S2LJ"
      },
      "source": [
        "#**Continue Statement**\n",
        "\n",
        "With the continue statement we can stop the current iteration, and continue with the next."
      ]
    },
    {
      "cell_type": "code",
      "execution_count": null,
      "metadata": {
        "colab": {
          "base_uri": "https://localhost:8080/"
        },
        "id": "a9n5tJBJPIxx",
        "outputId": "d15b7211-a827-44dd-8089-7c19116a6bda"
      },
      "outputs": [
        {
          "name": "stdout",
          "output_type": "stream",
          "text": [
            "1\n",
            "2\n",
            "4\n",
            "5\n",
            "6\n",
            "7\n"
          ]
        }
      ],
      "source": [
        "i = 0\n",
        "while i<=6:\n",
        "  i+=1\n",
        "  if i == 3:\n",
        "    continue\n",
        "  print(i)\n"
      ]
    },
    {
      "cell_type": "code",
      "execution_count": null,
      "metadata": {
        "id": "IlyZw7rhUzY6"
      },
      "outputs": [],
      "source": [
        "#Table using while loop\n",
        "\n",
        "a = int(input(\"Enter a number: \"))\n",
        "i = 1\n",
        "while i<=10:\n",
        "  print(a, \"*\", i, \"=\", a*i)\n",
        "  i+=1"
      ]
    },
    {
      "cell_type": "markdown",
      "metadata": {
        "id": "_YuUg4vJWyV2"
      },
      "source": [
        "#**Else in While Loop**\n",
        "\n",
        "With the else statement we can run a block of code once when the condition no longer is true."
      ]
    },
    {
      "cell_type": "code",
      "execution_count": null,
      "metadata": {
        "colab": {
          "base_uri": "https://localhost:8080/"
        },
        "id": "yqSxbXXtXJLL",
        "outputId": "db64b0e1-3026-479f-d6ac-42385ccbbc5f"
      },
      "outputs": [
        {
          "name": "stdout",
          "output_type": "stream",
          "text": [
            "0\n",
            "1\n",
            "2\n",
            "3\n",
            "4\n",
            "i is no longer less than 5.\n"
          ]
        }
      ],
      "source": [
        "i = 0\n",
        "while i<5:\n",
        "  print(i)\n",
        "  i += 1\n",
        "\n",
        "print(\"i is no longer less than 5.\")"
      ]
    },
    {
      "cell_type": "markdown",
      "metadata": {
        "id": "aBAlxa2QdMSi"
      },
      "source": [
        "#**For Loop**\n",
        "\n",
        "A for loop is used to iterate over a sequence. That sequence can be a string, list, tuple, set or a dictionary.\n",
        "\n",
        "It doesn't require an indexing variable to set beforhead."
      ]
    },
    {
      "cell_type": "code",
      "execution_count": null,
      "metadata": {
        "id": "MGZSsQKrdrgG"
      },
      "outputs": [],
      "source": [
        "a_string = \"Let's learn Python.\"\n",
        "for i in a_string:\n",
        "  print(i)"
      ]
    },
    {
      "cell_type": "code",
      "execution_count": null,
      "metadata": {
        "id": "p1xAUvYgT7Fk"
      },
      "outputs": [],
      "source": [
        "my_list = [3, 5, True, \"apple\"]\n",
        "for items in my_list:\n",
        "  print(items)"
      ]
    },
    {
      "cell_type": "code",
      "execution_count": null,
      "metadata": {
        "id": "AvUCN_LJUw9q"
      },
      "outputs": [],
      "source": [
        "my_tuple = (\"python\", \"cpp\", \"java\")\n",
        "for i in my_tuple:\n",
        "  print(i)"
      ]
    },
    {
      "cell_type": "markdown",
      "metadata": {
        "id": "IUmWHr8jeLVu"
      },
      "source": [
        "#**Break Statement in for loop**\n",
        "\n",
        "With the break statement we can stop the loop before it has looped through all the items."
      ]
    },
    {
      "cell_type": "code",
      "execution_count": null,
      "metadata": {
        "colab": {
          "base_uri": "https://localhost:8080/",
          "height": 273
        },
        "id": "fXo0WQ8rWqnY",
        "outputId": "f0c86afc-5f5e-4e77-ecf7-ecbea72b8edf"
      },
      "outputs": [
        {
          "name": "stdout",
          "output_type": "stream",
          "text": [
            "Your Guess: a\n"
          ]
        },
        {
          "ename": "ValueError",
          "evalue": "ignored",
          "output_type": "error",
          "traceback": [
            "\u001b[0;31m---------------------------------------------------------------------------\u001b[0m",
            "\u001b[0;31mValueError\u001b[0m                                Traceback (most recent call last)",
            "\u001b[0;32m<ipython-input-18-5d3b504669aa>\u001b[0m in \u001b[0;36m<cell line: 6>\u001b[0;34m()\u001b[0m\n\u001b[1;32m      5\u001b[0m \u001b[0mguess_limit\u001b[0m \u001b[0;34m=\u001b[0m \u001b[0;36m3\u001b[0m\u001b[0;34m\u001b[0m\u001b[0;34m\u001b[0m\u001b[0m\n\u001b[1;32m      6\u001b[0m \u001b[0;32mwhile\u001b[0m \u001b[0mguess_count\u001b[0m \u001b[0;34m<\u001b[0m \u001b[0mguess_limit\u001b[0m\u001b[0;34m:\u001b[0m\u001b[0;34m\u001b[0m\u001b[0;34m\u001b[0m\u001b[0m\n\u001b[0;32m----> 7\u001b[0;31m   \u001b[0mguess\u001b[0m \u001b[0;34m=\u001b[0m \u001b[0mint\u001b[0m\u001b[0;34m(\u001b[0m\u001b[0minput\u001b[0m\u001b[0;34m(\u001b[0m\u001b[0;34m\"Your Guess: \"\u001b[0m\u001b[0;34m)\u001b[0m\u001b[0;34m)\u001b[0m\u001b[0;34m\u001b[0m\u001b[0;34m\u001b[0m\u001b[0m\n\u001b[0m\u001b[1;32m      8\u001b[0m   \u001b[0;32mif\u001b[0m \u001b[0mguess\u001b[0m \u001b[0;34m!=\u001b[0m \u001b[0mint\u001b[0m\u001b[0;34m:\u001b[0m\u001b[0;34m\u001b[0m\u001b[0;34m\u001b[0m\u001b[0m\n\u001b[1;32m      9\u001b[0m     \u001b[0mprint\u001b[0m\u001b[0;34m(\u001b[0m\u001b[0;34m\"please enter valid num\"\u001b[0m\u001b[0;34m)\u001b[0m\u001b[0;34m\u001b[0m\u001b[0;34m\u001b[0m\u001b[0m\n",
            "\u001b[0;31mValueError\u001b[0m: invalid literal for int() with base 10: 'a'"
          ]
        }
      ],
      "source": [
        "# Guessing Game using While Loop\n",
        "\n",
        "secret_number = 5\n",
        "guess_count = 0\n",
        "guess_limit = 3\n",
        "while guess_count < guess_limit:\n",
        "  guess = int(input(\"Your Guess: \"))\n",
        "  if guess != int:\n",
        "    print(\"please enter valid num\")\n",
        "    break\n",
        "  else :\n",
        "    if guess == secret_number:\n",
        "      print(\"You won\")\n",
        "      break\n",
        "    guess_count += 1\n",
        "else:\n",
        "    print(\"You exceeded guess limit.\")"
      ]
    },
    {
      "cell_type": "code",
      "execution_count": null,
      "metadata": {
        "colab": {
          "base_uri": "https://localhost:8080/"
        },
        "id": "H64aodCZeSaI",
        "outputId": "b631a993-9023-4f4e-8b93-e01d79b96eb1"
      },
      "outputs": [
        {
          "name": "stdout",
          "output_type": "stream",
          "text": [
            "winter\n",
            "summer\n",
            "autumn\n"
          ]
        }
      ],
      "source": [
        "my_list = [\"winter\", \"summer\", \"autumn\", \"fall\", \"rainy season\"]\n",
        "for i in my_list:\n",
        "  #print(i)\n",
        "  if i == \"fall\":\n",
        "    break\n",
        "  print(i)"
      ]
    },
    {
      "cell_type": "code",
      "execution_count": null,
      "metadata": {
        "colab": {
          "base_uri": "https://localhost:8080/"
        },
        "id": "djhd_y-MerS8",
        "outputId": "e99e9e07-f017-4cd9-b1c1-dfbf2276d738"
      },
      "outputs": [
        {
          "name": "stdout",
          "output_type": "stream",
          "text": [
            "winter\n",
            "summer\n",
            "autumn\n"
          ]
        }
      ],
      "source": [
        "my_list = [\"winter\", \"summer\", \"autumn\", \"fall\", \"rainy season\"]\n",
        "for i in my_list:\n",
        "  if i == \"fall\":\n",
        "    break\n",
        "  print(i)"
      ]
    },
    {
      "cell_type": "markdown",
      "metadata": {
        "id": "puOddi2lexb4"
      },
      "source": [
        "#**Continue Statement in for loop**\n",
        "\n",
        "With the continue statement we can stop the current iteration of the loop, and continue with the next."
      ]
    },
    {
      "cell_type": "code",
      "execution_count": null,
      "metadata": {
        "colab": {
          "base_uri": "https://localhost:8080/"
        },
        "id": "5b1fbT8re5EY",
        "outputId": "75d7d0d1-5722-4daa-de43-4c8cb5605dac"
      },
      "outputs": [
        {
          "name": "stdout",
          "output_type": "stream",
          "text": [
            "winter\n",
            "summer\n",
            "autumn\n",
            "rainy season\n"
          ]
        }
      ],
      "source": [
        "my_list = [\"winter\", \"summer\", \"autumn\", \"fall\", \"rainy season\"]\n",
        "for i in my_list:\n",
        "  if i == \"fall\":\n",
        "    continue\n",
        "  print(i)\n"
      ]
    },
    {
      "cell_type": "markdown",
      "metadata": {
        "id": "_8SHtNTkoLQW"
      },
      "source": [
        "#**Range() function in For Loop**\n",
        "\n",
        "To loop through a set of code a specified number of times, we can use the range() function,\n",
        "The range() function returns a sequence of numbers, starting from 0 by default, and increments by 1 (by default), and ends at a specified number."
      ]
    },
    {
      "cell_type": "code",
      "execution_count": null,
      "metadata": {
        "colab": {
          "base_uri": "https://localhost:8080/"
        },
        "id": "R0kDQghloQOH",
        "outputId": "f44d1c5f-ca99-41ef-d363-77195284c46a"
      },
      "outputs": [
        {
          "name": "stdout",
          "output_type": "stream",
          "text": [
            "0\n",
            "1\n",
            "2\n",
            "3\n",
            "4\n"
          ]
        }
      ],
      "source": [
        "for i in range(5):\n",
        "  print(i)"
      ]
    },
    {
      "cell_type": "code",
      "execution_count": null,
      "metadata": {
        "colab": {
          "base_uri": "https://localhost:8080/"
        },
        "id": "GddsLx06ohHE",
        "outputId": "2491240c-a0e2-48cc-b3da-69d3d543bb48"
      },
      "outputs": [
        {
          "name": "stdout",
          "output_type": "stream",
          "text": [
            "1\n",
            "2\n",
            "3\n",
            "4\n"
          ]
        }
      ],
      "source": [
        "for i in range(1, 5):\n",
        "  print(i)"
      ]
    },
    {
      "cell_type": "code",
      "execution_count": null,
      "metadata": {
        "colab": {
          "base_uri": "https://localhost:8080/"
        },
        "id": "CzI6B5F2ompO",
        "outputId": "3cd9ac99-fbc6-4201-f1f7-0b8924ad98ae"
      },
      "outputs": [
        {
          "name": "stdout",
          "output_type": "stream",
          "text": [
            "10\n",
            "9\n",
            "8\n",
            "7\n",
            "6\n"
          ]
        }
      ],
      "source": [
        "for i in range(10, 5, -1):\n",
        "  print(i)"
      ]
    },
    {
      "cell_type": "code",
      "execution_count": null,
      "metadata": {
        "id": "IqyJBhNBFFjC"
      },
      "outputs": [],
      "source": []
    },
    {
      "cell_type": "code",
      "execution_count": null,
      "metadata": {
        "colab": {
          "base_uri": "https://localhost:8080/"
        },
        "id": "XRex5ZhEXYi3",
        "outputId": "a5a3c5fb-e9a4-43c0-edd9-b85028161660"
      },
      "outputs": [
        {
          "name": "stdout",
          "output_type": "stream",
          "text": [
            "[0]\n",
            "[1]\n",
            "[2]\n",
            "[3]\n",
            "[4]\n"
          ]
        }
      ],
      "source": [
        "my_list = [\"winter\", \"summer\", \"autumn\", \"fall\", \"rainy season\"]\n",
        "for i in range(len(my_list)):\n",
        "  print([i])"
      ]
    },
    {
      "cell_type": "markdown",
      "metadata": {
        "id": "96lSmlH_o2S9"
      },
      "source": [
        "#**Else in for loop**\n",
        "\n",
        "The else keyword in a for loop specifies a block of code to be executed when the loop is finished."
      ]
    },
    {
      "cell_type": "code",
      "execution_count": null,
      "metadata": {
        "colab": {
          "base_uri": "https://localhost:8080/"
        },
        "id": "uYjNBh41o8nZ",
        "outputId": "7d45d947-5a02-4e92-e23f-a46725c488bb"
      },
      "outputs": [
        {
          "name": "stdout",
          "output_type": "stream",
          "text": [
            "0\n",
            "1\n",
            "2\n",
            "3\n",
            "4\n",
            "5\n",
            "Finished.\n"
          ]
        }
      ],
      "source": [
        "for i in range(6):\n",
        "  print(i)\n",
        "else:\n",
        "  print(\"Finished.\")"
      ]
    },
    {
      "cell_type": "markdown",
      "metadata": {
        "id": "oP3tqBp2qDut"
      },
      "source": [
        "#**Pass Statement**\n",
        "\n",
        "for loops cannot be empty, but if you for some reason have a for loop with no content, put in the `pass` statement to avoid getting an error."
      ]
    },
    {
      "cell_type": "code",
      "execution_count": null,
      "metadata": {
        "id": "QfNpdEuCqMH1"
      },
      "outputs": [],
      "source": [
        "for x in range(5):\n",
        "  pass    # for avoid error"
      ]
    },
    {
      "cell_type": "markdown",
      "metadata": {
        "id": "1Fb4x1SyqXYT"
      },
      "source": [
        "#**Nested Loop**\n",
        "\n",
        "A nested loop is a loop inside a loop.\n",
        "\n",
        "The \"inner loop\" will be executed one time for each iteration of the \"outer loop\"."
      ]
    },
    {
      "cell_type": "code",
      "execution_count": null,
      "metadata": {
        "id": "-SXe53kkqbzb"
      },
      "outputs": [],
      "source": [
        "for x in range(5):\n",
        "  for y in \"Hello\":\n",
        "    print(x,y)"
      ]
    },
    {
      "cell_type": "markdown",
      "metadata": {
        "id": "pd8cah7H1FFl"
      },
      "source": [
        "#**List Comprehension**\n",
        "\n",
        "A shorter syntax to create a new list based on previous list.\n",
        "\n",
        "**Syntax**\n",
        "\n",
        "newlist = [expression `for` item `in` iterable `if` condition == True]"
      ]
    },
    {
      "cell_type": "code",
      "execution_count": null,
      "metadata": {
        "colab": {
          "base_uri": "https://localhost:8080/"
        },
        "id": "2xA6W3qU1U1m",
        "outputId": "8bf46ef3-18d9-44fa-8f11-21381adfdff9"
      },
      "outputs": [
        {
          "name": "stdout",
          "output_type": "stream",
          "text": [
            "['apple', 'banana', 'mango', 'apricort']\n"
          ]
        }
      ],
      "source": [
        "fruits = [\"apple\", \"banana\", \"cherry\", \"mango\", \"apricort\", \"berries\"]\n",
        "new_list = [x for x in fruits if \"a\" in x]\n",
        "print(new_list)"
      ]
    },
    {
      "cell_type": "code",
      "execution_count": null,
      "metadata": {
        "colab": {
          "base_uri": "https://localhost:8080/"
        },
        "id": "KMuqlq521Zxb",
        "outputId": "c1648528-f634-4f48-876d-516fa9e4b62f"
      },
      "outputs": [
        {
          "name": "stdout",
          "output_type": "stream",
          "text": [
            "[0, 1, 2, 3, 4]\n"
          ]
        }
      ],
      "source": [
        "Numbers = [x for x in range(5)]\n",
        "print(Numbers)"
      ]
    },
    {
      "cell_type": "code",
      "execution_count": null,
      "metadata": {
        "colab": {
          "base_uri": "https://localhost:8080/"
        },
        "id": "9FJsfqLG2FdT",
        "outputId": "45b5fefc-2a8c-429f-e213-e9014a0806bf"
      },
      "outputs": [
        {
          "name": "stdout",
          "output_type": "stream",
          "text": [
            "[0, 1, 2, 4]\n"
          ]
        }
      ],
      "source": [
        "Numbers = [x for x in range(5) if x!=3]\n",
        "print(Numbers)"
      ]
    },
    {
      "cell_type": "code",
      "execution_count": null,
      "metadata": {
        "colab": {
          "base_uri": "https://localhost:8080/"
        },
        "id": "UNvN8VK1hnS6",
        "outputId": "54984c6d-430f-4621-d40b-c9e1592b750c"
      },
      "outputs": [
        {
          "name": "stdout",
          "output_type": "stream",
          "text": [
            "[2, 4, 6, 8, 10, 12, 14, 16, 18, 20, 22, 24, 26, 28, 30, 32, 34, 36, 38, 40, 42, 44, 46, 48, 50, 52, 54, 56, 58, 60, 62, 64, 66, 68, 70, 72, 74, 76, 78, 80, 82, 84, 86, 88, 90, 92, 94, 96, 98, 100]\n"
          ]
        }
      ],
      "source": [
        "# write a program to create a list of first 100 even natural numbers.\n",
        "numbers = [x for x in range(2, 101, 2)]\n",
        "print(numbers)"
      ]
    },
    {
      "cell_type": "code",
      "execution_count": null,
      "metadata": {
        "colab": {
          "base_uri": "https://localhost:8080/"
        },
        "id": "Wkf58DuQhpF6",
        "outputId": "68ce95a1-61d5-4fad-96ed-a6fd3d06831e"
      },
      "outputs": [
        {
          "name": "stdout",
          "output_type": "stream",
          "text": [
            "['P', 'y', 't', 'h', 'o', 'n']\n"
          ]
        }
      ],
      "source": [
        "statement = \"Python\"\n",
        "# Convert every character of this string in a list item.\n",
        "new = []\n",
        "for i in statement:\n",
        "  new.append(i)\n",
        "print(new)"
      ]
    },
    {
      "cell_type": "code",
      "execution_count": null,
      "metadata": {
        "id": "6eM9J6KUn8_O"
      },
      "outputs": [],
      "source": []
    },
    {
      "cell_type": "markdown",
      "metadata": {
        "id": "iiv0sABecYsO"
      },
      "source": [
        "#**Topics to add**\n",
        "\n",
        "Loop through a string\n",
        "\n",
        "Loop through a list\n",
        "\n",
        "list comprehension\n",
        "\n",
        "loop tuples"
      ]
    },
    {
      "cell_type": "code",
      "execution_count": null,
      "metadata": {
        "id": "n9JRGDarmetF"
      },
      "outputs": [],
      "source": [
        "# Loop through a string\n",
        "a = \"Python for Beginners\"\n",
        "for i in a:\n",
        "  if i == \" \":\n",
        "    continue\n",
        "  print(i)\n"
      ]
    },
    {
      "cell_type": "code",
      "execution_count": null,
      "metadata": {
        "colab": {
          "base_uri": "https://localhost:8080/"
        },
        "id": "2Y5-7ZQcoMTl",
        "outputId": "868ada7c-4734-461d-9ff6-242fb6fd7970"
      },
      "outputs": [
        {
          "name": "stdout",
          "output_type": "stream",
          "text": [
            "5\n",
            "34\n",
            "98\n",
            "45\n"
          ]
        }
      ],
      "source": [
        "# Loop through a list\n",
        "my_list = [5, 34, 98, 45]\n",
        "i = 0\n",
        "while i<len(my_list):\n",
        "  print(my_list[i])\n",
        "  i += 1"
      ]
    },
    {
      "cell_type": "code",
      "execution_count": null,
      "metadata": {
        "colab": {
          "base_uri": "https://localhost:8080/"
        },
        "id": "S2sXa5mupnsX",
        "outputId": "2bbdc56a-b143-4d42-a74d-7e8d066b0825"
      },
      "outputs": [
        {
          "name": "stdout",
          "output_type": "stream",
          "text": [
            "[5, 34, 98, 45]\n"
          ]
        }
      ],
      "source": [
        "my_list = [5, 34, 98, 45]\n",
        "new_list = [x for x in my_list]\n",
        "print(new_list)"
      ]
    },
    {
      "cell_type": "code",
      "execution_count": null,
      "metadata": {
        "id": "NjMqLaMXqYrE"
      },
      "outputs": [],
      "source": [
        "# Loop through a tuple\n",
        "my_tuple = (4, 64, 23, 78)\n"
      ]
    },
    {
      "cell_type": "markdown",
      "metadata": {
        "id": "JEB-I-CkfXpM"
      },
      "source": [
        "# **Functions:**\n",
        "\n",
        "Functions allow us to create blocks of code that can be easily executed many times without needing to constantly rewrite the entire block of code.\n",
        "\n",
        "\n"
      ]
    },
    {
      "cell_type": "code",
      "execution_count": null,
      "metadata": {
        "colab": {
          "base_uri": "https://localhost:8080/"
        },
        "id": "I07u3GBBwpqI",
        "outputId": "11dd9aad-de95-41eb-fc39-7d08d8e52a1b"
      },
      "outputs": [
        {
          "name": "stdout",
          "output_type": "stream",
          "text": [
            "Python\n",
            "Programming\n",
            "Hello World\n",
            "None\n"
          ]
        }
      ],
      "source": [
        "def myfunction():\n",
        "  print(\"Python\")\n",
        "  print(\"Programming\")\n",
        "  print(\"Hello World\")\n",
        "myfunction()\n"
      ]
    },
    {
      "cell_type": "code",
      "execution_count": null,
      "metadata": {
        "id": "ITWzPV_0y2FW"
      },
      "outputs": [],
      "source": [
        "def function2(n, a):\n",
        "    print(name,age)\n",
        "name = input(\"Enter your name: \")\n",
        "age  = int(input(\"Enter your age: \"))\n",
        "function2(name, age)\n",
        "\n"
      ]
    },
    {
      "cell_type": "markdown",
      "metadata": {
        "id": "wrldacr5eDWD"
      },
      "source": [
        "# **Built-in Functions:**\n",
        "\n",
        "There are a lot of built-in functions in python that make programming more easier and efficient.\n",
        "\n"
      ]
    },
    {
      "cell_type": "code",
      "execution_count": null,
      "metadata": {
        "colab": {
          "base_uri": "https://localhost:8080/"
        },
        "id": "36O7bWu6lB7n",
        "outputId": "a02ca6af-cb00-4991-caaa-15c35cf26381"
      },
      "outputs": [
        {
          "name": "stdout",
          "output_type": "stream",
          "text": [
            "30\n"
          ]
        }
      ],
      "source": [
        "#The sum() function returns a number, the sum of all items in an iterable.\n",
        "\n",
        "a = [5, 6, 8]\n",
        "print(sum(a,11))"
      ]
    },
    {
      "cell_type": "code",
      "execution_count": null,
      "metadata": {
        "colab": {
          "base_uri": "https://localhost:8080/"
        },
        "id": "Ky1rfJeUq9Cp",
        "outputId": "4eef687c-c3e3-48f6-e083-ffd24087b604"
      },
      "outputs": [
        {
          "name": "stdout",
          "output_type": "stream",
          "text": [
            "(-1,)\n",
            "44\n"
          ]
        }
      ],
      "source": [
        "# max() and min() functions\n",
        "b = (44, 11)\n",
        "print(min(b , (-1,)))  # print(min(20,10,30,-1))\n",
        "print(max(b))"
      ]
    },
    {
      "cell_type": "code",
      "execution_count": null,
      "metadata": {
        "colab": {
          "base_uri": "https://localhost:8080/"
        },
        "id": "hnnUUFIcrRc3",
        "outputId": "b94ffe57-4994-42a3-b9e3-93424279cecf"
      },
      "outputs": [
        {
          "name": "stdout",
          "output_type": "stream",
          "text": [
            "56\n"
          ]
        }
      ],
      "source": [
        "a = 56\n",
        "b = 33\n",
        "print(max(a, b))  #print(a)"
      ]
    },
    {
      "cell_type": "code",
      "execution_count": null,
      "metadata": {
        "colab": {
          "base_uri": "https://localhost:8080/"
        },
        "id": "hLnss428rvSI",
        "outputId": "10b46ead-0c2f-4434-af51-31305e6740d9"
      },
      "outputs": [
        {
          "name": "stdout",
          "output_type": "stream",
          "text": [
            "hello\n",
            "Arabic\n"
          ]
        }
      ],
      "source": [
        "a = [\"Python\", \"Java\", \"Englishz\", \"Arabic\", \"Zoom\" , \"hello\"]\n",
        "print(max(a))\n",
        "print(min(a))"
      ]
    },
    {
      "cell_type": "markdown",
      "metadata": {
        "id": "8hfJQ2-1aybJ"
      },
      "source": [
        "#**THE END**\n",
        "\n",
        "                    THANKS FOR JOINING :)"
      ]
    }
  ],
  "metadata": {
    "colab": {
      "collapsed_sections": [
        "TgE4EvA3gNDc",
        "JTilxyDec5kY",
        "H7cMSVjR5v7X",
        "NrAxOhSVlbPu"
      ],
      "provenance": [],
      "toc_visible": true
    },
    "kernelspec": {
      "display_name": "python12",
      "language": "python",
      "name": "python3"
    },
    "language_info": {
      "codemirror_mode": {
        "name": "ipython",
        "version": 3
      },
      "file_extension": ".py",
      "mimetype": "text/x-python",
      "name": "python",
      "nbconvert_exporter": "python",
      "pygments_lexer": "ipython3",
      "version": "3.12.4"
    }
  },
  "nbformat": 4,
  "nbformat_minor": 0
}
